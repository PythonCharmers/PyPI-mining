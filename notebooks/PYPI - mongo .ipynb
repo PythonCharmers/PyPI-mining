{
 "metadata": {
  "name": "",
  "signature": "sha256:cc98eaa295f0eff56bc6ed0ad6455d7c6aee9a05e1d0a8531043696eff16da8f"
 },
 "nbformat": 3,
 "nbformat_minor": 0,
 "worksheets": [
  {
   "cells": [
    {
     "cell_type": "code",
     "collapsed": false,
     "input": [
      "import pymongo\n",
      "import xmlrpc.client\n",
      "from pymongo import MongoClient"
     ],
     "language": "python",
     "metadata": {},
     "outputs": [],
     "prompt_number": 1
    },
    {
     "cell_type": "code",
     "collapsed": false,
     "input": [
      "%%time \n",
      "\n",
      "rclient = xmlrpc.client.ServerProxy('http://pypi.python.org/pypi')\n",
      "\n",
      "python = rclient.browse(['Programming Language :: Python'])\n",
      "python_two = {}\n",
      "python_three = {}\n",
      "\n",
      "for classifier in [\n",
      " 'Programming Language :: Python :: 2',\n",
      " 'Programming Language :: Python :: 2.3',\n",
      " 'Programming Language :: Python :: 2.4',\n",
      " 'Programming Language :: Python :: 2.5',\n",
      " 'Programming Language :: Python :: 2.6',\n",
      " 'Programming Language :: Python :: 2.7',\n",
      " 'Programming Language :: Python :: 2 :: Only']:\n",
      "    python_two[classifier] = rclient.browse([classifier])\n",
      "\n",
      "for classifier in [\n",
      " 'Programming Language :: Python :: 3',\n",
      " 'Programming Language :: Python :: 3.0',\n",
      " 'Programming Language :: Python :: 3.1',\n",
      " 'Programming Language :: Python :: 3.2',\n",
      " 'Programming Language :: Python :: 3.3',\n",
      " 'Programming Language :: Python :: 3.4']:\n",
      "    python_three[classifier] = rclient.browse([classifier])\n",
      "\n",
      "mclient = MongoClient('localhost', 4321)\n",
      "\n",
      "db = mclient.pypi\n",
      "\n",
      "collection = db.python_stats\n",
      "\n",
      "import datetime\n",
      "\n",
      "def mongo_friendly(date):\n",
      "    return date.strftime('%Y-%m-%dT%H:%M:%S')\n",
      "\n",
      "document = {mongo_friendly(datetime.datetime.now()): {'python': python, 'python_two': python_two, 'python_three': python_three}}\n",
      "\n",
      "import json \n",
      "\n",
      "document = json.loads(json.dumps(document).replace('.','@@@'))\n",
      "collection.insert(document)"
     ],
     "language": "python",
     "metadata": {},
     "outputs": [
      {
       "output_type": "stream",
       "stream": "stdout",
       "text": [
        "CPU times: user 2.81 s, sys: 137 ms, total: 2.94 s\n",
        "Wall time: 1min 22s\n"
       ]
      }
     ],
     "prompt_number": 2
    },
    {
     "cell_type": "code",
     "collapsed": false,
     "input": [],
     "language": "python",
     "metadata": {},
     "outputs": []
    }
   ],
   "metadata": {}
  }
 ]
}