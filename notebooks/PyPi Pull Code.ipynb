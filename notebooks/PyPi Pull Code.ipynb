{
 "metadata": {
  "name": "",
  "signature": "sha256:80347ab0625e6b31013c1be5c2e183fb51c62574bf8e94b8f1ba19f5dd42f9b4"
 },
 "nbformat": 3,
 "nbformat_minor": 0,
 "worksheets": [
  {
   "cells": [
    {
     "cell_type": "code",
     "collapsed": false,
     "input": [
      "import pandas as pd\n",
      "import json\n",
      "from itertools import chain"
     ],
     "language": "python",
     "metadata": {},
     "outputs": [],
     "prompt_number": 1
    },
    {
     "cell_type": "code",
     "collapsed": false,
     "input": [
      "import requests\n",
      "import re\n",
      "import tempfile\n",
      "import functools\n",
      "import gzip"
     ],
     "language": "python",
     "metadata": {},
     "outputs": [],
     "prompt_number": 2
    },
    {
     "cell_type": "code",
     "collapsed": false,
     "input": [
      "%matplotlib inline"
     ],
     "language": "python",
     "metadata": {},
     "outputs": [],
     "prompt_number": 3
    },
    {
     "cell_type": "code",
     "collapsed": false,
     "input": [
      "URL = 'http://lidlbit.com:8888/'\n",
      "\n",
      "def get_file_list(url, ext='gz'):\n",
      "    \"\"\" \n",
      "    Get a file list from a http server. \n",
      "    \"\"\"\n",
      "\n",
      "    index = requests.get(url,  auth=('mining', 'pypi'))\n",
      "    pattern = '<a href=\"(.*)\">'.format(ext)\n",
      "    return [ x for x in re.findall(pattern, index.content.decode()) if x.endswith(ext)]\n",
      "\n",
      "\n",
      "@functools.lru_cache()\n",
      "def get_file(url, filename):\n",
      "    \"\"\"\n",
      "    Retrieve a file, into a temporary file.\n",
      "    \"\"\"\n",
      "    \n",
      "    data = requests.get('{}/{}'.format(url, filename), auth=('mining', 'pypi'))  \n",
      "    temp = tempfile.NamedTemporaryFile()\n",
      "    temp.write(data.content)\n",
      "    temp.seek(0)\n",
      "    return temp\n",
      "\n",
      "@functools.lru_cache()\n",
      "def decompress_json(jsonfile):\n",
      "    \"\"\"\n",
      "    Decompress the json named temporary file.\n",
      "    \"\"\"\n",
      "\n",
      "    jsonfile.seek(0)\n",
      "    return gzip.decompress(jsonfile.read())\n",
      "    "
     ],
     "language": "python",
     "metadata": {},
     "outputs": [],
     "prompt_number": 4
    },
    {
     "cell_type": "code",
     "collapsed": false,
     "input": [
      "files = get_file_list(URL)"
     ],
     "language": "python",
     "metadata": {},
     "outputs": [],
     "prompt_number": 5
    },
    {
     "cell_type": "code",
     "collapsed": false,
     "input": [
      "def compute_package_dict(json_data, python_version='python_three'):\n",
      "    date = list(json_data.keys())[0]\n",
      "    data = {}\n",
      "    for c in [x for x in json_data[date][python_version].keys()]:\n",
      "        package_list = []\n",
      "        for p in json_data[date][python_version][c]:\n",
      "            try:\n",
      "                package_list.append(p['package'])\n",
      "            except Exception as error:\n",
      "                package_list.append(p[0])\n",
      "        data[c] = sorted(package_list)\n",
      "    return date, data"
     ],
     "language": "python",
     "metadata": {},
     "outputs": [],
     "prompt_number": 6
    },
    {
     "cell_type": "code",
     "collapsed": false,
     "input": [
      "def compute_package_frame(package_dict):\n",
      "    all_packages = sorted(set(chain(*package_dict.values())))\n",
      "    frame = pd.DataFrame({k: [True if x in v else False for x in all_packages] for k, v in package_dict.items()})\n",
      "    frame['package'] = all_packages\n",
      "    return frame"
     ],
     "language": "python",
     "metadata": {},
     "outputs": [],
     "prompt_number": 7
    },
    {
     "cell_type": "code",
     "collapsed": false,
     "input": [
      "def compute_count_frame(python_version='python_three', step=10):\n",
      "    data = {}\n",
      "    for filename in files[::step]:\n",
      "        print(filename)\n",
      "        file_data = get_file(URL, filename)\n",
      "        json_data = json.loads(decompress_json(file_data).decode())\n",
      "        date, package_dict = compute_package_dict(json_data, python_version)\n",
      "        frame = compute_package_frame(package_dict)\n",
      "        data[date] = frame.sum()\n",
      "\n",
      "    dframe = pd.DataFrame(data).T\n",
      "    dframe\n",
      "    \n",
      "    return dframe"
     ],
     "language": "python",
     "metadata": {},
     "outputs": [],
     "prompt_number": 12
    },
    {
     "cell_type": "code",
     "collapsed": false,
     "input": [
      "py3"
     ],
     "language": "python",
     "metadata": {},
     "outputs": [
      {
       "html": [
        "<div style=\"max-height:1000px;max-width:1500px;overflow:auto;\">\n",
        "<table border=\"1\" class=\"dataframe\">\n",
        "  <thead>\n",
        "    <tr style=\"text-align: right;\">\n",
        "      <th></th>\n",
        "      <th>Programming Language :: Python :: 3</th>\n",
        "      <th>Programming Language :: Python :: 3.0</th>\n",
        "      <th>Programming Language :: Python :: 3.1</th>\n",
        "      <th>Programming Language :: Python :: 3.2</th>\n",
        "      <th>Programming Language :: Python :: 3.3</th>\n",
        "      <th>Programming Language :: Python :: 3.4</th>\n",
        "      <th>package</th>\n",
        "    </tr>\n",
        "  </thead>\n",
        "  <tbody>\n",
        "    <tr>\n",
        "      <th>2014-05-06T09:12:03</th>\n",
        "      <td> 4220</td>\n",
        "      <td> 337</td>\n",
        "      <td> 665</td>\n",
        "      <td> 1980</td>\n",
        "      <td> 2916</td>\n",
        "      <td> 425</td>\n",
        "      <td> 1to0013to2_py3kABNAPSchedulerAPacheDEXActionTr...</td>\n",
        "    </tr>\n",
        "    <tr>\n",
        "      <th>2014-05-06T13:30:51</th>\n",
        "      <td> 4228</td>\n",
        "      <td> 337</td>\n",
        "      <td> 665</td>\n",
        "      <td> 1982</td>\n",
        "      <td> 2924</td>\n",
        "      <td> 432</td>\n",
        "      <td> 1to0013to2_py3kABNAPSchedulerAPacheDEXActionTr...</td>\n",
        "    </tr>\n",
        "    <tr>\n",
        "      <th>2014-05-06T18:30:53</th>\n",
        "      <td> 4232</td>\n",
        "      <td> 337</td>\n",
        "      <td> 665</td>\n",
        "      <td> 1982</td>\n",
        "      <td> 2930</td>\n",
        "      <td> 437</td>\n",
        "      <td> 1to0013to2_py3kABNAPSchedulerAPacheDEXActionTr...</td>\n",
        "    </tr>\n",
        "    <tr>\n",
        "      <th>2014-05-06T23:30:52</th>\n",
        "      <td> 4232</td>\n",
        "      <td> 336</td>\n",
        "      <td> 664</td>\n",
        "      <td> 1981</td>\n",
        "      <td> 2929</td>\n",
        "      <td> 437</td>\n",
        "      <td> 1to0013to2_py3kABNAPSchedulerAPacheDEXActionTr...</td>\n",
        "    </tr>\n",
        "    <tr>\n",
        "      <th>2014-05-07T04:30:48</th>\n",
        "      <td> 4232</td>\n",
        "      <td> 336</td>\n",
        "      <td> 664</td>\n",
        "      <td> 1982</td>\n",
        "      <td> 2930</td>\n",
        "      <td> 437</td>\n",
        "      <td> 1to0013to2_py3kABNAPSchedulerAPacheDEXActionTr...</td>\n",
        "    </tr>\n",
        "    <tr>\n",
        "      <th>2014-05-07T09:30:53</th>\n",
        "      <td> 4233</td>\n",
        "      <td> 336</td>\n",
        "      <td> 664</td>\n",
        "      <td> 1982</td>\n",
        "      <td> 2931</td>\n",
        "      <td> 437</td>\n",
        "      <td> 1to0013to2_py3kABNAPSchedulerAPacheDEXActionTr...</td>\n",
        "    </tr>\n",
        "    <tr>\n",
        "      <th>2014-05-07T14:30:45</th>\n",
        "      <td> 4237</td>\n",
        "      <td> 336</td>\n",
        "      <td> 664</td>\n",
        "      <td> 1984</td>\n",
        "      <td> 2933</td>\n",
        "      <td> 440</td>\n",
        "      <td> 1to0013to2_py3kABNAPSchedulerAPacheDEXActionTr...</td>\n",
        "    </tr>\n",
        "    <tr>\n",
        "      <th>2014-05-07T19:30:55</th>\n",
        "      <td> 4238</td>\n",
        "      <td> 336</td>\n",
        "      <td> 664</td>\n",
        "      <td> 1984</td>\n",
        "      <td> 2933</td>\n",
        "      <td> 442</td>\n",
        "      <td> 1to0013to2_py3kABNAPSchedulerAPacheDEXActionTr...</td>\n",
        "    </tr>\n",
        "    <tr>\n",
        "      <th>2014-05-08T00:30:56</th>\n",
        "      <td> 4239</td>\n",
        "      <td> 336</td>\n",
        "      <td> 664</td>\n",
        "      <td> 1984</td>\n",
        "      <td> 2935</td>\n",
        "      <td> 444</td>\n",
        "      <td> 1to0013to2_py3kABNAPSchedulerAPacheDEXActionTr...</td>\n",
        "    </tr>\n",
        "    <tr>\n",
        "      <th>2014-05-08T06:00:47</th>\n",
        "      <td> 4240</td>\n",
        "      <td> 336</td>\n",
        "      <td> 664</td>\n",
        "      <td> 1984</td>\n",
        "      <td> 2935</td>\n",
        "      <td> 445</td>\n",
        "      <td> 1to0013to2_py3kABNAPSchedulerAPacheDEXActionTr...</td>\n",
        "    </tr>\n",
        "    <tr>\n",
        "      <th>2014-05-08T11:00:52</th>\n",
        "      <td> 4241</td>\n",
        "      <td> 336</td>\n",
        "      <td> 664</td>\n",
        "      <td> 1984</td>\n",
        "      <td> 2935</td>\n",
        "      <td> 445</td>\n",
        "      <td> 1to0013to2_py3kABNAPSchedulerAPacheDEXActionTr...</td>\n",
        "    </tr>\n",
        "    <tr>\n",
        "      <th>2014-05-08T16:00:50</th>\n",
        "      <td> 4244</td>\n",
        "      <td> 336</td>\n",
        "      <td> 664</td>\n",
        "      <td> 1984</td>\n",
        "      <td> 2938</td>\n",
        "      <td> 446</td>\n",
        "      <td> 1to0013to2_py3kABNAPSchedulerAPacheDEXActionTr...</td>\n",
        "    </tr>\n",
        "    <tr>\n",
        "      <th>2014-05-08T21:00:53</th>\n",
        "      <td> 4244</td>\n",
        "      <td> 336</td>\n",
        "      <td> 664</td>\n",
        "      <td> 1985</td>\n",
        "      <td> 2938</td>\n",
        "      <td> 446</td>\n",
        "      <td> 1to0013to2_py3kABNAPSchedulerAPacheDEXActionTr...</td>\n",
        "    </tr>\n",
        "    <tr>\n",
        "      <th>2014-05-09T02:00:51</th>\n",
        "      <td> 4245</td>\n",
        "      <td> 336</td>\n",
        "      <td> 664</td>\n",
        "      <td> 1985</td>\n",
        "      <td> 2940</td>\n",
        "      <td> 447</td>\n",
        "      <td> 1to0013to2_py3kABNAPSchedulerAPacheDEXActionTr...</td>\n",
        "    </tr>\n",
        "    <tr>\n",
        "      <th>2014-05-09T07:00:50</th>\n",
        "      <td> 4247</td>\n",
        "      <td> 336</td>\n",
        "      <td> 664</td>\n",
        "      <td> 1985</td>\n",
        "      <td> 2941</td>\n",
        "      <td> 449</td>\n",
        "      <td> 1to0013to2_py3kABNAPSchedulerAPacheDEXActionTr...</td>\n",
        "    </tr>\n",
        "    <tr>\n",
        "      <th>2014-05-09T12:00:50</th>\n",
        "      <td> 4248</td>\n",
        "      <td> 336</td>\n",
        "      <td> 664</td>\n",
        "      <td> 1985</td>\n",
        "      <td> 2944</td>\n",
        "      <td> 450</td>\n",
        "      <td> 1to0013to2_py3kABNAPSchedulerAPacheDEXActionTr...</td>\n",
        "    </tr>\n",
        "    <tr>\n",
        "      <th>2014-05-09T17:00:57</th>\n",
        "      <td> 4252</td>\n",
        "      <td> 336</td>\n",
        "      <td> 664</td>\n",
        "      <td> 1989</td>\n",
        "      <td> 2951</td>\n",
        "      <td> 459</td>\n",
        "      <td> 1to0013to2_py3kABNAPSchedulerAPacheDEXActionTr...</td>\n",
        "    </tr>\n",
        "    <tr>\n",
        "      <th>2014-05-09T22:00:51</th>\n",
        "      <td> 4254</td>\n",
        "      <td> 336</td>\n",
        "      <td> 664</td>\n",
        "      <td> 1989</td>\n",
        "      <td> 2951</td>\n",
        "      <td> 462</td>\n",
        "      <td> 1to0013to2_py3kABNAPSchedulerAPacheDEXActionTr...</td>\n",
        "    </tr>\n",
        "    <tr>\n",
        "      <th>2014-05-10T03:00:57</th>\n",
        "      <td> 4255</td>\n",
        "      <td> 336</td>\n",
        "      <td> 664</td>\n",
        "      <td> 1990</td>\n",
        "      <td> 2951</td>\n",
        "      <td> 462</td>\n",
        "      <td> 1to0013to2_py3kABNAPSchedulerAPacheDEXActionTr...</td>\n",
        "    </tr>\n",
        "    <tr>\n",
        "      <th>2014-05-10T08:00:47</th>\n",
        "      <td> 4256</td>\n",
        "      <td> 336</td>\n",
        "      <td> 664</td>\n",
        "      <td> 1990</td>\n",
        "      <td> 2952</td>\n",
        "      <td> 466</td>\n",
        "      <td> 1to0013to2_py3kABNAPSchedulerAPacheDEXActionTr...</td>\n",
        "    </tr>\n",
        "    <tr>\n",
        "      <th>2014-05-10T13:30:52</th>\n",
        "      <td> 4257</td>\n",
        "      <td> 336</td>\n",
        "      <td> 664</td>\n",
        "      <td> 1991</td>\n",
        "      <td> 2953</td>\n",
        "      <td> 471</td>\n",
        "      <td> 1to0013to2_py3kABNAPSchedulerAPacheDEXActionTr...</td>\n",
        "    </tr>\n",
        "    <tr>\n",
        "      <th>2014-05-10T18:30:55</th>\n",
        "      <td> 4261</td>\n",
        "      <td> 336</td>\n",
        "      <td> 664</td>\n",
        "      <td> 1993</td>\n",
        "      <td> 2955</td>\n",
        "      <td> 473</td>\n",
        "      <td> 1to0013to2_py3kABNAPSchedulerAPacheDEXActionTr...</td>\n",
        "    </tr>\n",
        "    <tr>\n",
        "      <th>2014-05-10T23:30:51</th>\n",
        "      <td> 4262</td>\n",
        "      <td> 336</td>\n",
        "      <td> 664</td>\n",
        "      <td> 1993</td>\n",
        "      <td> 2956</td>\n",
        "      <td> 472</td>\n",
        "      <td> 1to0013to2_py3kABNAPSchedulerAPacheDEXActionTr...</td>\n",
        "    </tr>\n",
        "    <tr>\n",
        "      <th>2014-05-11T04:30:48</th>\n",
        "      <td> 4263</td>\n",
        "      <td> 336</td>\n",
        "      <td> 664</td>\n",
        "      <td> 1993</td>\n",
        "      <td> 2957</td>\n",
        "      <td> 474</td>\n",
        "      <td> 1to0013to2_py3kABNAPSchedulerAPacheDEXActionTr...</td>\n",
        "    </tr>\n",
        "    <tr>\n",
        "      <th>2014-05-11T09:30:49</th>\n",
        "      <td> 4266</td>\n",
        "      <td> 337</td>\n",
        "      <td> 665</td>\n",
        "      <td> 1994</td>\n",
        "      <td> 2957</td>\n",
        "      <td> 473</td>\n",
        "      <td> 1to0013to2_py3kABNAPSchedulerAPacheDEXActionTr...</td>\n",
        "    </tr>\n",
        "    <tr>\n",
        "      <th>2014-05-11T14:30:49</th>\n",
        "      <td> 4268</td>\n",
        "      <td> 337</td>\n",
        "      <td> 665</td>\n",
        "      <td> 1994</td>\n",
        "      <td> 2959</td>\n",
        "      <td> 474</td>\n",
        "      <td> 1to0013to2_py3kABNAPSchedulerAPacheDEXActionTr...</td>\n",
        "    </tr>\n",
        "    <tr>\n",
        "      <th>2014-05-11T19:30:52</th>\n",
        "      <td> 4271</td>\n",
        "      <td> 336</td>\n",
        "      <td> 664</td>\n",
        "      <td> 1993</td>\n",
        "      <td> 2959</td>\n",
        "      <td> 473</td>\n",
        "      <td> 1to0013to2_py3kABNAPSchedulerAPacheDEXActionTr...</td>\n",
        "    </tr>\n",
        "    <tr>\n",
        "      <th>2014-05-12T00:30:50</th>\n",
        "      <td> 4272</td>\n",
        "      <td> 336</td>\n",
        "      <td> 664</td>\n",
        "      <td> 1994</td>\n",
        "      <td> 2961</td>\n",
        "      <td> 473</td>\n",
        "      <td> 1to0013to2_py3kABNAPSchedulerAPacheDEXActionTr...</td>\n",
        "    </tr>\n",
        "    <tr>\n",
        "      <th>2014-05-12T05:30:55</th>\n",
        "      <td> 4274</td>\n",
        "      <td> 336</td>\n",
        "      <td> 664</td>\n",
        "      <td> 1994</td>\n",
        "      <td> 2962</td>\n",
        "      <td> 474</td>\n",
        "      <td> 1to0013to2_py3kABNAPSchedulerAPacheDEXActionTr...</td>\n",
        "    </tr>\n",
        "    <tr>\n",
        "      <th>2014-05-12T10:30:50</th>\n",
        "      <td> 4275</td>\n",
        "      <td> 336</td>\n",
        "      <td> 663</td>\n",
        "      <td> 1993</td>\n",
        "      <td> 2960</td>\n",
        "      <td> 475</td>\n",
        "      <td> 1to0013to2_py3kABNAPSchedulerAPacheDEXActionTr...</td>\n",
        "    </tr>\n",
        "    <tr>\n",
        "      <th>...</th>\n",
        "      <td>...</td>\n",
        "      <td>...</td>\n",
        "      <td>...</td>\n",
        "      <td>...</td>\n",
        "      <td>...</td>\n",
        "      <td>...</td>\n",
        "      <td>...</td>\n",
        "    </tr>\n",
        "    <tr>\n",
        "      <th>2014-07-05T09:30:54</th>\n",
        "      <td> 4770</td>\n",
        "      <td> 349</td>\n",
        "      <td> 685</td>\n",
        "      <td> 2146</td>\n",
        "      <td> 3400</td>\n",
        "      <td> 926</td>\n",
        "      <td> 1to0012gis3to2_py3k51degrees-mobile-detector51...</td>\n",
        "    </tr>\n",
        "    <tr>\n",
        "      <th>2014-07-05T14:30:50</th>\n",
        "      <td> 4774</td>\n",
        "      <td> 349</td>\n",
        "      <td> 685</td>\n",
        "      <td> 2149</td>\n",
        "      <td> 3403</td>\n",
        "      <td> 930</td>\n",
        "      <td> 1to0012gis3to2_py3k51degrees-mobile-detector51...</td>\n",
        "    </tr>\n",
        "    <tr>\n",
        "      <th>2014-07-05T20:00:53</th>\n",
        "      <td> 4776</td>\n",
        "      <td> 349</td>\n",
        "      <td> 685</td>\n",
        "      <td> 2149</td>\n",
        "      <td> 3403</td>\n",
        "      <td> 932</td>\n",
        "      <td> 1to0012gis3to2_py3k51degrees-mobile-detector51...</td>\n",
        "    </tr>\n",
        "    <tr>\n",
        "      <th>2014-07-06T01:00:49</th>\n",
        "      <td> 4775</td>\n",
        "      <td> 349</td>\n",
        "      <td> 685</td>\n",
        "      <td> 2150</td>\n",
        "      <td> 3402</td>\n",
        "      <td> 933</td>\n",
        "      <td> 1to0012gis3to2_py3k51degrees-mobile-detector51...</td>\n",
        "    </tr>\n",
        "    <tr>\n",
        "      <th>2014-07-06T06:00:52</th>\n",
        "      <td> 4776</td>\n",
        "      <td> 349</td>\n",
        "      <td> 685</td>\n",
        "      <td> 2151</td>\n",
        "      <td> 3403</td>\n",
        "      <td> 934</td>\n",
        "      <td> 1to0012gis3to2_py3k51degrees-mobile-detector51...</td>\n",
        "    </tr>\n",
        "    <tr>\n",
        "      <th>2014-07-06T11:00:55</th>\n",
        "      <td> 4779</td>\n",
        "      <td> 349</td>\n",
        "      <td> 685</td>\n",
        "      <td> 2151</td>\n",
        "      <td> 3404</td>\n",
        "      <td> 936</td>\n",
        "      <td> 1to0012gis3to2_py3k51degrees-mobile-detector51...</td>\n",
        "    </tr>\n",
        "    <tr>\n",
        "      <th>2014-07-06T16:00:54</th>\n",
        "      <td> 4783</td>\n",
        "      <td> 349</td>\n",
        "      <td> 686</td>\n",
        "      <td> 2151</td>\n",
        "      <td> 3405</td>\n",
        "      <td> 937</td>\n",
        "      <td> 1to0012gis3to2_py3k51degrees-mobile-detector51...</td>\n",
        "    </tr>\n",
        "    <tr>\n",
        "      <th>2014-07-06T21:30:55</th>\n",
        "      <td> 4784</td>\n",
        "      <td> 349</td>\n",
        "      <td> 686</td>\n",
        "      <td> 2152</td>\n",
        "      <td> 3406</td>\n",
        "      <td> 938</td>\n",
        "      <td> 1to0012gis3to2_py3k51degrees-mobile-detector51...</td>\n",
        "    </tr>\n",
        "    <tr>\n",
        "      <th>2014-07-07T02:30:57</th>\n",
        "      <td> 4784</td>\n",
        "      <td> 349</td>\n",
        "      <td> 686</td>\n",
        "      <td> 2152</td>\n",
        "      <td> 3406</td>\n",
        "      <td> 940</td>\n",
        "      <td> 1to0012gis3to2_py3k51degrees-mobile-detector51...</td>\n",
        "    </tr>\n",
        "    <tr>\n",
        "      <th>2014-07-07T07:30:50</th>\n",
        "      <td> 4785</td>\n",
        "      <td> 349</td>\n",
        "      <td> 686</td>\n",
        "      <td> 2152</td>\n",
        "      <td> 3406</td>\n",
        "      <td> 942</td>\n",
        "      <td> 1to0012gis3to2_py3k51degrees-mobile-detector51...</td>\n",
        "    </tr>\n",
        "    <tr>\n",
        "      <th>2014-07-07T12:30:53</th>\n",
        "      <td> 4789</td>\n",
        "      <td> 349</td>\n",
        "      <td> 686</td>\n",
        "      <td> 2153</td>\n",
        "      <td> 3408</td>\n",
        "      <td> 947</td>\n",
        "      <td> 1to0012gis3to2_py3k51degrees-mobile-detector51...</td>\n",
        "    </tr>\n",
        "    <tr>\n",
        "      <th>2014-07-07T17:30:50</th>\n",
        "      <td> 4789</td>\n",
        "      <td> 349</td>\n",
        "      <td> 686</td>\n",
        "      <td> 2152</td>\n",
        "      <td> 3409</td>\n",
        "      <td> 950</td>\n",
        "      <td> 1to0012gis3to2_py3k51degrees-mobile-detector51...</td>\n",
        "    </tr>\n",
        "    <tr>\n",
        "      <th>2014-07-07T23:00:51</th>\n",
        "      <td> 4791</td>\n",
        "      <td> 349</td>\n",
        "      <td> 686</td>\n",
        "      <td> 2152</td>\n",
        "      <td> 3410</td>\n",
        "      <td> 950</td>\n",
        "      <td> 1to0012gis3to2_py3k51degrees-mobile-detector51...</td>\n",
        "    </tr>\n",
        "    <tr>\n",
        "      <th>2014-07-08T04:00:59</th>\n",
        "      <td> 4795</td>\n",
        "      <td> 349</td>\n",
        "      <td> 686</td>\n",
        "      <td> 2152</td>\n",
        "      <td> 3413</td>\n",
        "      <td> 952</td>\n",
        "      <td> 1to0012gis3to2_py3k51degrees-mobile-detector51...</td>\n",
        "    </tr>\n",
        "    <tr>\n",
        "      <th>2014-07-08T09:00:57</th>\n",
        "      <td> 4797</td>\n",
        "      <td> 349</td>\n",
        "      <td> 687</td>\n",
        "      <td> 2153</td>\n",
        "      <td> 3415</td>\n",
        "      <td> 954</td>\n",
        "      <td> 1to0012gis3to2_py3k51degrees-mobile-detector51...</td>\n",
        "    </tr>\n",
        "    <tr>\n",
        "      <th>2014-07-08T14:00:56</th>\n",
        "      <td> 4799</td>\n",
        "      <td> 349</td>\n",
        "      <td> 687</td>\n",
        "      <td> 2153</td>\n",
        "      <td> 3417</td>\n",
        "      <td> 955</td>\n",
        "      <td> 1to0012gis3to2_py3k51degrees-mobile-detector51...</td>\n",
        "    </tr>\n",
        "    <tr>\n",
        "      <th>2014-07-08T19:30:50</th>\n",
        "      <td> 4802</td>\n",
        "      <td> 349</td>\n",
        "      <td> 687</td>\n",
        "      <td> 2153</td>\n",
        "      <td> 3418</td>\n",
        "      <td> 957</td>\n",
        "      <td> 1to0012gis3to2_py3k51degrees-mobile-detector51...</td>\n",
        "    </tr>\n",
        "    <tr>\n",
        "      <th>2014-07-09T00:30:49</th>\n",
        "      <td> 4805</td>\n",
        "      <td> 350</td>\n",
        "      <td> 688</td>\n",
        "      <td> 2154</td>\n",
        "      <td> 3419</td>\n",
        "      <td> 958</td>\n",
        "      <td> 1to0012gis3to2_py3k51degrees-mobile-detector51...</td>\n",
        "    </tr>\n",
        "    <tr>\n",
        "      <th>2014-07-09T05:30:50</th>\n",
        "      <td> 4805</td>\n",
        "      <td> 350</td>\n",
        "      <td> 688</td>\n",
        "      <td> 2154</td>\n",
        "      <td> 3420</td>\n",
        "      <td> 958</td>\n",
        "      <td> 1to0012gis3to2_py3k51degrees-mobile-detector51...</td>\n",
        "    </tr>\n",
        "    <tr>\n",
        "      <th>2014-07-09T11:00:55</th>\n",
        "      <td> 4808</td>\n",
        "      <td> 350</td>\n",
        "      <td> 688</td>\n",
        "      <td> 2154</td>\n",
        "      <td> 3422</td>\n",
        "      <td> 960</td>\n",
        "      <td> 1to0012gis3to2_py3k51degrees-mobile-detector51...</td>\n",
        "    </tr>\n",
        "    <tr>\n",
        "      <th>2014-07-09T16:30:48</th>\n",
        "      <td> 4810</td>\n",
        "      <td> 351</td>\n",
        "      <td> 689</td>\n",
        "      <td> 2156</td>\n",
        "      <td> 3425</td>\n",
        "      <td> 961</td>\n",
        "      <td> 1to0012gis3to2_py3k51degrees-mobile-detector51...</td>\n",
        "    </tr>\n",
        "    <tr>\n",
        "      <th>2014-07-09T22:30:53</th>\n",
        "      <td> 4811</td>\n",
        "      <td> 351</td>\n",
        "      <td> 689</td>\n",
        "      <td> 2157</td>\n",
        "      <td> 3426</td>\n",
        "      <td> 963</td>\n",
        "      <td> 1to0012gis3to2_py3k51degrees-mobile-detector51...</td>\n",
        "    </tr>\n",
        "    <tr>\n",
        "      <th>2014-07-10T03:30:50</th>\n",
        "      <td> 4812</td>\n",
        "      <td> 351</td>\n",
        "      <td> 689</td>\n",
        "      <td> 2156</td>\n",
        "      <td> 3427</td>\n",
        "      <td> 966</td>\n",
        "      <td> 1to0012gis3to2_py3k51degrees-mobile-detector51...</td>\n",
        "    </tr>\n",
        "    <tr>\n",
        "      <th>2014-07-10T08:30:54</th>\n",
        "      <td> 4812</td>\n",
        "      <td> 351</td>\n",
        "      <td> 689</td>\n",
        "      <td> 2156</td>\n",
        "      <td> 3427</td>\n",
        "      <td> 965</td>\n",
        "      <td> 1to0012gis3to2_py3k51degrees-mobile-detector51...</td>\n",
        "    </tr>\n",
        "    <tr>\n",
        "      <th>2014-07-10T14:00:51</th>\n",
        "      <td> 4811</td>\n",
        "      <td> 351</td>\n",
        "      <td> 689</td>\n",
        "      <td> 2158</td>\n",
        "      <td> 3429</td>\n",
        "      <td> 967</td>\n",
        "      <td> 1to0012gis3to2_py3k51degrees-mobile-detector51...</td>\n",
        "    </tr>\n",
        "    <tr>\n",
        "      <th>2014-07-10T19:30:48</th>\n",
        "      <td> 4819</td>\n",
        "      <td> 351</td>\n",
        "      <td> 690</td>\n",
        "      <td> 2159</td>\n",
        "      <td> 3433</td>\n",
        "      <td> 970</td>\n",
        "      <td> 1to0012gis3to2_py3k51degrees-mobile-detector51...</td>\n",
        "    </tr>\n",
        "    <tr>\n",
        "      <th>2014-07-11T00:30:48</th>\n",
        "      <td> 4824</td>\n",
        "      <td> 351</td>\n",
        "      <td> 690</td>\n",
        "      <td> 2160</td>\n",
        "      <td> 3439</td>\n",
        "      <td> 976</td>\n",
        "      <td> 1to0012gis3to2_py3k51degrees-mobile-detector51...</td>\n",
        "    </tr>\n",
        "    <tr>\n",
        "      <th>2014-07-11T05:30:51</th>\n",
        "      <td> 4825</td>\n",
        "      <td> 351</td>\n",
        "      <td> 690</td>\n",
        "      <td> 2162</td>\n",
        "      <td> 3441</td>\n",
        "      <td> 978</td>\n",
        "      <td> 1to0012gis3to2_py3k51degrees-mobile-detector51...</td>\n",
        "    </tr>\n",
        "    <tr>\n",
        "      <th>2014-07-11T10:30:47</th>\n",
        "      <td> 4828</td>\n",
        "      <td> 352</td>\n",
        "      <td> 691</td>\n",
        "      <td> 2163</td>\n",
        "      <td> 3443</td>\n",
        "      <td> 983</td>\n",
        "      <td> 1to0012gis3to2_py3k51degrees-mobile-detector51...</td>\n",
        "    </tr>\n",
        "    <tr>\n",
        "      <th>2014-07-11T15:30:52</th>\n",
        "      <td> 4835</td>\n",
        "      <td> 352</td>\n",
        "      <td> 692</td>\n",
        "      <td> 2163</td>\n",
        "      <td> 3445</td>\n",
        "      <td> 987</td>\n",
        "      <td> 1to0012gis3to2_py3k51degrees-mobile-detector51...</td>\n",
        "    </tr>\n",
        "  </tbody>\n",
        "</table>\n",
        "<p>326 rows \u00d7 7 columns</p>\n",
        "</div>"
       ],
       "metadata": {},
       "output_type": "pyout",
       "prompt_number": 13,
       "text": [
        "                    Programming Language :: Python :: 3  \\\n",
        "2014-05-06T09:12:03                                4220   \n",
        "2014-05-06T13:30:51                                4228   \n",
        "2014-05-06T18:30:53                                4232   \n",
        "2014-05-06T23:30:52                                4232   \n",
        "2014-05-07T04:30:48                                4232   \n",
        "2014-05-07T09:30:53                                4233   \n",
        "2014-05-07T14:30:45                                4237   \n",
        "2014-05-07T19:30:55                                4238   \n",
        "2014-05-08T00:30:56                                4239   \n",
        "2014-05-08T06:00:47                                4240   \n",
        "2014-05-08T11:00:52                                4241   \n",
        "2014-05-08T16:00:50                                4244   \n",
        "2014-05-08T21:00:53                                4244   \n",
        "2014-05-09T02:00:51                                4245   \n",
        "2014-05-09T07:00:50                                4247   \n",
        "2014-05-09T12:00:50                                4248   \n",
        "2014-05-09T17:00:57                                4252   \n",
        "2014-05-09T22:00:51                                4254   \n",
        "2014-05-10T03:00:57                                4255   \n",
        "2014-05-10T08:00:47                                4256   \n",
        "2014-05-10T13:30:52                                4257   \n",
        "2014-05-10T18:30:55                                4261   \n",
        "2014-05-10T23:30:51                                4262   \n",
        "2014-05-11T04:30:48                                4263   \n",
        "2014-05-11T09:30:49                                4266   \n",
        "2014-05-11T14:30:49                                4268   \n",
        "2014-05-11T19:30:52                                4271   \n",
        "2014-05-12T00:30:50                                4272   \n",
        "2014-05-12T05:30:55                                4274   \n",
        "2014-05-12T10:30:50                                4275   \n",
        "...                                                 ...   \n",
        "2014-07-05T09:30:54                                4770   \n",
        "2014-07-05T14:30:50                                4774   \n",
        "2014-07-05T20:00:53                                4776   \n",
        "2014-07-06T01:00:49                                4775   \n",
        "2014-07-06T06:00:52                                4776   \n",
        "2014-07-06T11:00:55                                4779   \n",
        "2014-07-06T16:00:54                                4783   \n",
        "2014-07-06T21:30:55                                4784   \n",
        "2014-07-07T02:30:57                                4784   \n",
        "2014-07-07T07:30:50                                4785   \n",
        "2014-07-07T12:30:53                                4789   \n",
        "2014-07-07T17:30:50                                4789   \n",
        "2014-07-07T23:00:51                                4791   \n",
        "2014-07-08T04:00:59                                4795   \n",
        "2014-07-08T09:00:57                                4797   \n",
        "2014-07-08T14:00:56                                4799   \n",
        "2014-07-08T19:30:50                                4802   \n",
        "2014-07-09T00:30:49                                4805   \n",
        "2014-07-09T05:30:50                                4805   \n",
        "2014-07-09T11:00:55                                4808   \n",
        "2014-07-09T16:30:48                                4810   \n",
        "2014-07-09T22:30:53                                4811   \n",
        "2014-07-10T03:30:50                                4812   \n",
        "2014-07-10T08:30:54                                4812   \n",
        "2014-07-10T14:00:51                                4811   \n",
        "2014-07-10T19:30:48                                4819   \n",
        "2014-07-11T00:30:48                                4824   \n",
        "2014-07-11T05:30:51                                4825   \n",
        "2014-07-11T10:30:47                                4828   \n",
        "2014-07-11T15:30:52                                4835   \n",
        "\n",
        "                    Programming Language :: Python :: 3.0  \\\n",
        "2014-05-06T09:12:03                                   337   \n",
        "2014-05-06T13:30:51                                   337   \n",
        "2014-05-06T18:30:53                                   337   \n",
        "2014-05-06T23:30:52                                   336   \n",
        "2014-05-07T04:30:48                                   336   \n",
        "2014-05-07T09:30:53                                   336   \n",
        "2014-05-07T14:30:45                                   336   \n",
        "2014-05-07T19:30:55                                   336   \n",
        "2014-05-08T00:30:56                                   336   \n",
        "2014-05-08T06:00:47                                   336   \n",
        "2014-05-08T11:00:52                                   336   \n",
        "2014-05-08T16:00:50                                   336   \n",
        "2014-05-08T21:00:53                                   336   \n",
        "2014-05-09T02:00:51                                   336   \n",
        "2014-05-09T07:00:50                                   336   \n",
        "2014-05-09T12:00:50                                   336   \n",
        "2014-05-09T17:00:57                                   336   \n",
        "2014-05-09T22:00:51                                   336   \n",
        "2014-05-10T03:00:57                                   336   \n",
        "2014-05-10T08:00:47                                   336   \n",
        "2014-05-10T13:30:52                                   336   \n",
        "2014-05-10T18:30:55                                   336   \n",
        "2014-05-10T23:30:51                                   336   \n",
        "2014-05-11T04:30:48                                   336   \n",
        "2014-05-11T09:30:49                                   337   \n",
        "2014-05-11T14:30:49                                   337   \n",
        "2014-05-11T19:30:52                                   336   \n",
        "2014-05-12T00:30:50                                   336   \n",
        "2014-05-12T05:30:55                                   336   \n",
        "2014-05-12T10:30:50                                   336   \n",
        "...                                                   ...   \n",
        "2014-07-05T09:30:54                                   349   \n",
        "2014-07-05T14:30:50                                   349   \n",
        "2014-07-05T20:00:53                                   349   \n",
        "2014-07-06T01:00:49                                   349   \n",
        "2014-07-06T06:00:52                                   349   \n",
        "2014-07-06T11:00:55                                   349   \n",
        "2014-07-06T16:00:54                                   349   \n",
        "2014-07-06T21:30:55                                   349   \n",
        "2014-07-07T02:30:57                                   349   \n",
        "2014-07-07T07:30:50                                   349   \n",
        "2014-07-07T12:30:53                                   349   \n",
        "2014-07-07T17:30:50                                   349   \n",
        "2014-07-07T23:00:51                                   349   \n",
        "2014-07-08T04:00:59                                   349   \n",
        "2014-07-08T09:00:57                                   349   \n",
        "2014-07-08T14:00:56                                   349   \n",
        "2014-07-08T19:30:50                                   349   \n",
        "2014-07-09T00:30:49                                   350   \n",
        "2014-07-09T05:30:50                                   350   \n",
        "2014-07-09T11:00:55                                   350   \n",
        "2014-07-09T16:30:48                                   351   \n",
        "2014-07-09T22:30:53                                   351   \n",
        "2014-07-10T03:30:50                                   351   \n",
        "2014-07-10T08:30:54                                   351   \n",
        "2014-07-10T14:00:51                                   351   \n",
        "2014-07-10T19:30:48                                   351   \n",
        "2014-07-11T00:30:48                                   351   \n",
        "2014-07-11T05:30:51                                   351   \n",
        "2014-07-11T10:30:47                                   352   \n",
        "2014-07-11T15:30:52                                   352   \n",
        "\n",
        "                    Programming Language :: Python :: 3.1  \\\n",
        "2014-05-06T09:12:03                                   665   \n",
        "2014-05-06T13:30:51                                   665   \n",
        "2014-05-06T18:30:53                                   665   \n",
        "2014-05-06T23:30:52                                   664   \n",
        "2014-05-07T04:30:48                                   664   \n",
        "2014-05-07T09:30:53                                   664   \n",
        "2014-05-07T14:30:45                                   664   \n",
        "2014-05-07T19:30:55                                   664   \n",
        "2014-05-08T00:30:56                                   664   \n",
        "2014-05-08T06:00:47                                   664   \n",
        "2014-05-08T11:00:52                                   664   \n",
        "2014-05-08T16:00:50                                   664   \n",
        "2014-05-08T21:00:53                                   664   \n",
        "2014-05-09T02:00:51                                   664   \n",
        "2014-05-09T07:00:50                                   664   \n",
        "2014-05-09T12:00:50                                   664   \n",
        "2014-05-09T17:00:57                                   664   \n",
        "2014-05-09T22:00:51                                   664   \n",
        "2014-05-10T03:00:57                                   664   \n",
        "2014-05-10T08:00:47                                   664   \n",
        "2014-05-10T13:30:52                                   664   \n",
        "2014-05-10T18:30:55                                   664   \n",
        "2014-05-10T23:30:51                                   664   \n",
        "2014-05-11T04:30:48                                   664   \n",
        "2014-05-11T09:30:49                                   665   \n",
        "2014-05-11T14:30:49                                   665   \n",
        "2014-05-11T19:30:52                                   664   \n",
        "2014-05-12T00:30:50                                   664   \n",
        "2014-05-12T05:30:55                                   664   \n",
        "2014-05-12T10:30:50                                   663   \n",
        "...                                                   ...   \n",
        "2014-07-05T09:30:54                                   685   \n",
        "2014-07-05T14:30:50                                   685   \n",
        "2014-07-05T20:00:53                                   685   \n",
        "2014-07-06T01:00:49                                   685   \n",
        "2014-07-06T06:00:52                                   685   \n",
        "2014-07-06T11:00:55                                   685   \n",
        "2014-07-06T16:00:54                                   686   \n",
        "2014-07-06T21:30:55                                   686   \n",
        "2014-07-07T02:30:57                                   686   \n",
        "2014-07-07T07:30:50                                   686   \n",
        "2014-07-07T12:30:53                                   686   \n",
        "2014-07-07T17:30:50                                   686   \n",
        "2014-07-07T23:00:51                                   686   \n",
        "2014-07-08T04:00:59                                   686   \n",
        "2014-07-08T09:00:57                                   687   \n",
        "2014-07-08T14:00:56                                   687   \n",
        "2014-07-08T19:30:50                                   687   \n",
        "2014-07-09T00:30:49                                   688   \n",
        "2014-07-09T05:30:50                                   688   \n",
        "2014-07-09T11:00:55                                   688   \n",
        "2014-07-09T16:30:48                                   689   \n",
        "2014-07-09T22:30:53                                   689   \n",
        "2014-07-10T03:30:50                                   689   \n",
        "2014-07-10T08:30:54                                   689   \n",
        "2014-07-10T14:00:51                                   689   \n",
        "2014-07-10T19:30:48                                   690   \n",
        "2014-07-11T00:30:48                                   690   \n",
        "2014-07-11T05:30:51                                   690   \n",
        "2014-07-11T10:30:47                                   691   \n",
        "2014-07-11T15:30:52                                   692   \n",
        "\n",
        "                    Programming Language :: Python :: 3.2  \\\n",
        "2014-05-06T09:12:03                                  1980   \n",
        "2014-05-06T13:30:51                                  1982   \n",
        "2014-05-06T18:30:53                                  1982   \n",
        "2014-05-06T23:30:52                                  1981   \n",
        "2014-05-07T04:30:48                                  1982   \n",
        "2014-05-07T09:30:53                                  1982   \n",
        "2014-05-07T14:30:45                                  1984   \n",
        "2014-05-07T19:30:55                                  1984   \n",
        "2014-05-08T00:30:56                                  1984   \n",
        "2014-05-08T06:00:47                                  1984   \n",
        "2014-05-08T11:00:52                                  1984   \n",
        "2014-05-08T16:00:50                                  1984   \n",
        "2014-05-08T21:00:53                                  1985   \n",
        "2014-05-09T02:00:51                                  1985   \n",
        "2014-05-09T07:00:50                                  1985   \n",
        "2014-05-09T12:00:50                                  1985   \n",
        "2014-05-09T17:00:57                                  1989   \n",
        "2014-05-09T22:00:51                                  1989   \n",
        "2014-05-10T03:00:57                                  1990   \n",
        "2014-05-10T08:00:47                                  1990   \n",
        "2014-05-10T13:30:52                                  1991   \n",
        "2014-05-10T18:30:55                                  1993   \n",
        "2014-05-10T23:30:51                                  1993   \n",
        "2014-05-11T04:30:48                                  1993   \n",
        "2014-05-11T09:30:49                                  1994   \n",
        "2014-05-11T14:30:49                                  1994   \n",
        "2014-05-11T19:30:52                                  1993   \n",
        "2014-05-12T00:30:50                                  1994   \n",
        "2014-05-12T05:30:55                                  1994   \n",
        "2014-05-12T10:30:50                                  1993   \n",
        "...                                                   ...   \n",
        "2014-07-05T09:30:54                                  2146   \n",
        "2014-07-05T14:30:50                                  2149   \n",
        "2014-07-05T20:00:53                                  2149   \n",
        "2014-07-06T01:00:49                                  2150   \n",
        "2014-07-06T06:00:52                                  2151   \n",
        "2014-07-06T11:00:55                                  2151   \n",
        "2014-07-06T16:00:54                                  2151   \n",
        "2014-07-06T21:30:55                                  2152   \n",
        "2014-07-07T02:30:57                                  2152   \n",
        "2014-07-07T07:30:50                                  2152   \n",
        "2014-07-07T12:30:53                                  2153   \n",
        "2014-07-07T17:30:50                                  2152   \n",
        "2014-07-07T23:00:51                                  2152   \n",
        "2014-07-08T04:00:59                                  2152   \n",
        "2014-07-08T09:00:57                                  2153   \n",
        "2014-07-08T14:00:56                                  2153   \n",
        "2014-07-08T19:30:50                                  2153   \n",
        "2014-07-09T00:30:49                                  2154   \n",
        "2014-07-09T05:30:50                                  2154   \n",
        "2014-07-09T11:00:55                                  2154   \n",
        "2014-07-09T16:30:48                                  2156   \n",
        "2014-07-09T22:30:53                                  2157   \n",
        "2014-07-10T03:30:50                                  2156   \n",
        "2014-07-10T08:30:54                                  2156   \n",
        "2014-07-10T14:00:51                                  2158   \n",
        "2014-07-10T19:30:48                                  2159   \n",
        "2014-07-11T00:30:48                                  2160   \n",
        "2014-07-11T05:30:51                                  2162   \n",
        "2014-07-11T10:30:47                                  2163   \n",
        "2014-07-11T15:30:52                                  2163   \n",
        "\n",
        "                    Programming Language :: Python :: 3.3  \\\n",
        "2014-05-06T09:12:03                                  2916   \n",
        "2014-05-06T13:30:51                                  2924   \n",
        "2014-05-06T18:30:53                                  2930   \n",
        "2014-05-06T23:30:52                                  2929   \n",
        "2014-05-07T04:30:48                                  2930   \n",
        "2014-05-07T09:30:53                                  2931   \n",
        "2014-05-07T14:30:45                                  2933   \n",
        "2014-05-07T19:30:55                                  2933   \n",
        "2014-05-08T00:30:56                                  2935   \n",
        "2014-05-08T06:00:47                                  2935   \n",
        "2014-05-08T11:00:52                                  2935   \n",
        "2014-05-08T16:00:50                                  2938   \n",
        "2014-05-08T21:00:53                                  2938   \n",
        "2014-05-09T02:00:51                                  2940   \n",
        "2014-05-09T07:00:50                                  2941   \n",
        "2014-05-09T12:00:50                                  2944   \n",
        "2014-05-09T17:00:57                                  2951   \n",
        "2014-05-09T22:00:51                                  2951   \n",
        "2014-05-10T03:00:57                                  2951   \n",
        "2014-05-10T08:00:47                                  2952   \n",
        "2014-05-10T13:30:52                                  2953   \n",
        "2014-05-10T18:30:55                                  2955   \n",
        "2014-05-10T23:30:51                                  2956   \n",
        "2014-05-11T04:30:48                                  2957   \n",
        "2014-05-11T09:30:49                                  2957   \n",
        "2014-05-11T14:30:49                                  2959   \n",
        "2014-05-11T19:30:52                                  2959   \n",
        "2014-05-12T00:30:50                                  2961   \n",
        "2014-05-12T05:30:55                                  2962   \n",
        "2014-05-12T10:30:50                                  2960   \n",
        "...                                                   ...   \n",
        "2014-07-05T09:30:54                                  3400   \n",
        "2014-07-05T14:30:50                                  3403   \n",
        "2014-07-05T20:00:53                                  3403   \n",
        "2014-07-06T01:00:49                                  3402   \n",
        "2014-07-06T06:00:52                                  3403   \n",
        "2014-07-06T11:00:55                                  3404   \n",
        "2014-07-06T16:00:54                                  3405   \n",
        "2014-07-06T21:30:55                                  3406   \n",
        "2014-07-07T02:30:57                                  3406   \n",
        "2014-07-07T07:30:50                                  3406   \n",
        "2014-07-07T12:30:53                                  3408   \n",
        "2014-07-07T17:30:50                                  3409   \n",
        "2014-07-07T23:00:51                                  3410   \n",
        "2014-07-08T04:00:59                                  3413   \n",
        "2014-07-08T09:00:57                                  3415   \n",
        "2014-07-08T14:00:56                                  3417   \n",
        "2014-07-08T19:30:50                                  3418   \n",
        "2014-07-09T00:30:49                                  3419   \n",
        "2014-07-09T05:30:50                                  3420   \n",
        "2014-07-09T11:00:55                                  3422   \n",
        "2014-07-09T16:30:48                                  3425   \n",
        "2014-07-09T22:30:53                                  3426   \n",
        "2014-07-10T03:30:50                                  3427   \n",
        "2014-07-10T08:30:54                                  3427   \n",
        "2014-07-10T14:00:51                                  3429   \n",
        "2014-07-10T19:30:48                                  3433   \n",
        "2014-07-11T00:30:48                                  3439   \n",
        "2014-07-11T05:30:51                                  3441   \n",
        "2014-07-11T10:30:47                                  3443   \n",
        "2014-07-11T15:30:52                                  3445   \n",
        "\n",
        "                    Programming Language :: Python :: 3.4  \\\n",
        "2014-05-06T09:12:03                                   425   \n",
        "2014-05-06T13:30:51                                   432   \n",
        "2014-05-06T18:30:53                                   437   \n",
        "2014-05-06T23:30:52                                   437   \n",
        "2014-05-07T04:30:48                                   437   \n",
        "2014-05-07T09:30:53                                   437   \n",
        "2014-05-07T14:30:45                                   440   \n",
        "2014-05-07T19:30:55                                   442   \n",
        "2014-05-08T00:30:56                                   444   \n",
        "2014-05-08T06:00:47                                   445   \n",
        "2014-05-08T11:00:52                                   445   \n",
        "2014-05-08T16:00:50                                   446   \n",
        "2014-05-08T21:00:53                                   446   \n",
        "2014-05-09T02:00:51                                   447   \n",
        "2014-05-09T07:00:50                                   449   \n",
        "2014-05-09T12:00:50                                   450   \n",
        "2014-05-09T17:00:57                                   459   \n",
        "2014-05-09T22:00:51                                   462   \n",
        "2014-05-10T03:00:57                                   462   \n",
        "2014-05-10T08:00:47                                   466   \n",
        "2014-05-10T13:30:52                                   471   \n",
        "2014-05-10T18:30:55                                   473   \n",
        "2014-05-10T23:30:51                                   472   \n",
        "2014-05-11T04:30:48                                   474   \n",
        "2014-05-11T09:30:49                                   473   \n",
        "2014-05-11T14:30:49                                   474   \n",
        "2014-05-11T19:30:52                                   473   \n",
        "2014-05-12T00:30:50                                   473   \n",
        "2014-05-12T05:30:55                                   474   \n",
        "2014-05-12T10:30:50                                   475   \n",
        "...                                                   ...   \n",
        "2014-07-05T09:30:54                                   926   \n",
        "2014-07-05T14:30:50                                   930   \n",
        "2014-07-05T20:00:53                                   932   \n",
        "2014-07-06T01:00:49                                   933   \n",
        "2014-07-06T06:00:52                                   934   \n",
        "2014-07-06T11:00:55                                   936   \n",
        "2014-07-06T16:00:54                                   937   \n",
        "2014-07-06T21:30:55                                   938   \n",
        "2014-07-07T02:30:57                                   940   \n",
        "2014-07-07T07:30:50                                   942   \n",
        "2014-07-07T12:30:53                                   947   \n",
        "2014-07-07T17:30:50                                   950   \n",
        "2014-07-07T23:00:51                                   950   \n",
        "2014-07-08T04:00:59                                   952   \n",
        "2014-07-08T09:00:57                                   954   \n",
        "2014-07-08T14:00:56                                   955   \n",
        "2014-07-08T19:30:50                                   957   \n",
        "2014-07-09T00:30:49                                   958   \n",
        "2014-07-09T05:30:50                                   958   \n",
        "2014-07-09T11:00:55                                   960   \n",
        "2014-07-09T16:30:48                                   961   \n",
        "2014-07-09T22:30:53                                   963   \n",
        "2014-07-10T03:30:50                                   966   \n",
        "2014-07-10T08:30:54                                   965   \n",
        "2014-07-10T14:00:51                                   967   \n",
        "2014-07-10T19:30:48                                   970   \n",
        "2014-07-11T00:30:48                                   976   \n",
        "2014-07-11T05:30:51                                   978   \n",
        "2014-07-11T10:30:47                                   983   \n",
        "2014-07-11T15:30:52                                   987   \n",
        "\n",
        "                                                               package  \n",
        "2014-05-06T09:12:03  1to0013to2_py3kABNAPSchedulerAPacheDEXActionTr...  \n",
        "2014-05-06T13:30:51  1to0013to2_py3kABNAPSchedulerAPacheDEXActionTr...  \n",
        "2014-05-06T18:30:53  1to0013to2_py3kABNAPSchedulerAPacheDEXActionTr...  \n",
        "2014-05-06T23:30:52  1to0013to2_py3kABNAPSchedulerAPacheDEXActionTr...  \n",
        "2014-05-07T04:30:48  1to0013to2_py3kABNAPSchedulerAPacheDEXActionTr...  \n",
        "2014-05-07T09:30:53  1to0013to2_py3kABNAPSchedulerAPacheDEXActionTr...  \n",
        "2014-05-07T14:30:45  1to0013to2_py3kABNAPSchedulerAPacheDEXActionTr...  \n",
        "2014-05-07T19:30:55  1to0013to2_py3kABNAPSchedulerAPacheDEXActionTr...  \n",
        "2014-05-08T00:30:56  1to0013to2_py3kABNAPSchedulerAPacheDEXActionTr...  \n",
        "2014-05-08T06:00:47  1to0013to2_py3kABNAPSchedulerAPacheDEXActionTr...  \n",
        "2014-05-08T11:00:52  1to0013to2_py3kABNAPSchedulerAPacheDEXActionTr...  \n",
        "2014-05-08T16:00:50  1to0013to2_py3kABNAPSchedulerAPacheDEXActionTr...  \n",
        "2014-05-08T21:00:53  1to0013to2_py3kABNAPSchedulerAPacheDEXActionTr...  \n",
        "2014-05-09T02:00:51  1to0013to2_py3kABNAPSchedulerAPacheDEXActionTr...  \n",
        "2014-05-09T07:00:50  1to0013to2_py3kABNAPSchedulerAPacheDEXActionTr...  \n",
        "2014-05-09T12:00:50  1to0013to2_py3kABNAPSchedulerAPacheDEXActionTr...  \n",
        "2014-05-09T17:00:57  1to0013to2_py3kABNAPSchedulerAPacheDEXActionTr...  \n",
        "2014-05-09T22:00:51  1to0013to2_py3kABNAPSchedulerAPacheDEXActionTr...  \n",
        "2014-05-10T03:00:57  1to0013to2_py3kABNAPSchedulerAPacheDEXActionTr...  \n",
        "2014-05-10T08:00:47  1to0013to2_py3kABNAPSchedulerAPacheDEXActionTr...  \n",
        "2014-05-10T13:30:52  1to0013to2_py3kABNAPSchedulerAPacheDEXActionTr...  \n",
        "2014-05-10T18:30:55  1to0013to2_py3kABNAPSchedulerAPacheDEXActionTr...  \n",
        "2014-05-10T23:30:51  1to0013to2_py3kABNAPSchedulerAPacheDEXActionTr...  \n",
        "2014-05-11T04:30:48  1to0013to2_py3kABNAPSchedulerAPacheDEXActionTr...  \n",
        "2014-05-11T09:30:49  1to0013to2_py3kABNAPSchedulerAPacheDEXActionTr...  \n",
        "2014-05-11T14:30:49  1to0013to2_py3kABNAPSchedulerAPacheDEXActionTr...  \n",
        "2014-05-11T19:30:52  1to0013to2_py3kABNAPSchedulerAPacheDEXActionTr...  \n",
        "2014-05-12T00:30:50  1to0013to2_py3kABNAPSchedulerAPacheDEXActionTr...  \n",
        "2014-05-12T05:30:55  1to0013to2_py3kABNAPSchedulerAPacheDEXActionTr...  \n",
        "2014-05-12T10:30:50  1to0013to2_py3kABNAPSchedulerAPacheDEXActionTr...  \n",
        "...                                                                ...  \n",
        "2014-07-05T09:30:54  1to0012gis3to2_py3k51degrees-mobile-detector51...  \n",
        "2014-07-05T14:30:50  1to0012gis3to2_py3k51degrees-mobile-detector51...  \n",
        "2014-07-05T20:00:53  1to0012gis3to2_py3k51degrees-mobile-detector51...  \n",
        "2014-07-06T01:00:49  1to0012gis3to2_py3k51degrees-mobile-detector51...  \n",
        "2014-07-06T06:00:52  1to0012gis3to2_py3k51degrees-mobile-detector51...  \n",
        "2014-07-06T11:00:55  1to0012gis3to2_py3k51degrees-mobile-detector51...  \n",
        "2014-07-06T16:00:54  1to0012gis3to2_py3k51degrees-mobile-detector51...  \n",
        "2014-07-06T21:30:55  1to0012gis3to2_py3k51degrees-mobile-detector51...  \n",
        "2014-07-07T02:30:57  1to0012gis3to2_py3k51degrees-mobile-detector51...  \n",
        "2014-07-07T07:30:50  1to0012gis3to2_py3k51degrees-mobile-detector51...  \n",
        "2014-07-07T12:30:53  1to0012gis3to2_py3k51degrees-mobile-detector51...  \n",
        "2014-07-07T17:30:50  1to0012gis3to2_py3k51degrees-mobile-detector51...  \n",
        "2014-07-07T23:00:51  1to0012gis3to2_py3k51degrees-mobile-detector51...  \n",
        "2014-07-08T04:00:59  1to0012gis3to2_py3k51degrees-mobile-detector51...  \n",
        "2014-07-08T09:00:57  1to0012gis3to2_py3k51degrees-mobile-detector51...  \n",
        "2014-07-08T14:00:56  1to0012gis3to2_py3k51degrees-mobile-detector51...  \n",
        "2014-07-08T19:30:50  1to0012gis3to2_py3k51degrees-mobile-detector51...  \n",
        "2014-07-09T00:30:49  1to0012gis3to2_py3k51degrees-mobile-detector51...  \n",
        "2014-07-09T05:30:50  1to0012gis3to2_py3k51degrees-mobile-detector51...  \n",
        "2014-07-09T11:00:55  1to0012gis3to2_py3k51degrees-mobile-detector51...  \n",
        "2014-07-09T16:30:48  1to0012gis3to2_py3k51degrees-mobile-detector51...  \n",
        "2014-07-09T22:30:53  1to0012gis3to2_py3k51degrees-mobile-detector51...  \n",
        "2014-07-10T03:30:50  1to0012gis3to2_py3k51degrees-mobile-detector51...  \n",
        "2014-07-10T08:30:54  1to0012gis3to2_py3k51degrees-mobile-detector51...  \n",
        "2014-07-10T14:00:51  1to0012gis3to2_py3k51degrees-mobile-detector51...  \n",
        "2014-07-10T19:30:48  1to0012gis3to2_py3k51degrees-mobile-detector51...  \n",
        "2014-07-11T00:30:48  1to0012gis3to2_py3k51degrees-mobile-detector51...  \n",
        "2014-07-11T05:30:51  1to0012gis3to2_py3k51degrees-mobile-detector51...  \n",
        "2014-07-11T10:30:47  1to0012gis3to2_py3k51degrees-mobile-detector51...  \n",
        "2014-07-11T15:30:52  1to0012gis3to2_py3k51degrees-mobile-detector51...  \n",
        "\n",
        "[326 rows x 7 columns]"
       ]
      }
     ],
     "prompt_number": 13
    },
    {
     "cell_type": "code",
     "collapsed": false,
     "input": [
      "py3 = compute_count_frame(python_version='python_three')    \n",
      "py3.plot(figsize=(20, 8));"
     ],
     "language": "python",
     "metadata": {},
     "outputs": [
      {
       "output_type": "stream",
       "stream": "stdout",
       "text": [
        "pypi_2014-05-06T09%3a12%3a03.json.gz\n",
        "pypi_2014-05-06T13%3a30%3a51.json.gz"
       ]
      },
      {
       "output_type": "stream",
       "stream": "stdout",
       "text": [
        "\n",
        "pypi_2014-05-06T18%3a30%3a53.json.gz"
       ]
      },
      {
       "output_type": "stream",
       "stream": "stdout",
       "text": [
        "\n",
        "pypi_2014-05-06T23%3a30%3a52.json.gz"
       ]
      },
      {
       "output_type": "stream",
       "stream": "stdout",
       "text": [
        "\n",
        "pypi_2014-05-07T04%3a30%3a48.json.gz"
       ]
      },
      {
       "output_type": "stream",
       "stream": "stdout",
       "text": [
        "\n",
        "pypi_2014-05-07T09%3a30%3a53.json.gz"
       ]
      },
      {
       "output_type": "stream",
       "stream": "stdout",
       "text": [
        "\n",
        "pypi_2014-05-07T14%3a30%3a45.json.gz"
       ]
      },
      {
       "output_type": "stream",
       "stream": "stdout",
       "text": [
        "\n",
        "pypi_2014-05-07T19%3a30%3a55.json.gz"
       ]
      },
      {
       "output_type": "stream",
       "stream": "stdout",
       "text": [
        "\n",
        "pypi_2014-05-08T00%3a30%3a56.json.gz"
       ]
      },
      {
       "output_type": "stream",
       "stream": "stdout",
       "text": [
        "\n",
        "pypi_2014-05-08T06%3a00%3a47.json.gz"
       ]
      },
      {
       "output_type": "stream",
       "stream": "stdout",
       "text": [
        "\n",
        "pypi_2014-05-08T11%3a00%3a52.json.gz"
       ]
      },
      {
       "output_type": "stream",
       "stream": "stdout",
       "text": [
        "\n",
        "pypi_2014-05-08T16%3a00%3a50.json.gz"
       ]
      },
      {
       "output_type": "stream",
       "stream": "stdout",
       "text": [
        "\n",
        "pypi_2014-05-08T21%3a00%3a53.json.gz"
       ]
      },
      {
       "output_type": "stream",
       "stream": "stdout",
       "text": [
        "\n",
        "pypi_2014-05-09T02%3a00%3a51.json.gz"
       ]
      },
      {
       "output_type": "stream",
       "stream": "stdout",
       "text": [
        "\n",
        "pypi_2014-05-09T07%3a00%3a50.json.gz"
       ]
      },
      {
       "output_type": "stream",
       "stream": "stdout",
       "text": [
        "\n",
        "pypi_2014-05-09T12%3a00%3a50.json.gz"
       ]
      },
      {
       "output_type": "stream",
       "stream": "stdout",
       "text": [
        "\n",
        "pypi_2014-05-09T17%3a00%3a57.json.gz"
       ]
      },
      {
       "output_type": "stream",
       "stream": "stdout",
       "text": [
        "\n",
        "pypi_2014-05-09T22%3a00%3a51.json.gz"
       ]
      },
      {
       "output_type": "stream",
       "stream": "stdout",
       "text": [
        "\n",
        "pypi_2014-05-10T03%3a00%3a57.json.gz"
       ]
      },
      {
       "output_type": "stream",
       "stream": "stdout",
       "text": [
        "\n",
        "pypi_2014-05-10T08%3a00%3a47.json.gz"
       ]
      },
      {
       "output_type": "stream",
       "stream": "stdout",
       "text": [
        "\n",
        "pypi_2014-05-10T13%3a30%3a52.json.gz"
       ]
      },
      {
       "output_type": "stream",
       "stream": "stdout",
       "text": [
        "\n",
        "pypi_2014-05-10T18%3a30%3a55.json.gz"
       ]
      },
      {
       "output_type": "stream",
       "stream": "stdout",
       "text": [
        "\n",
        "pypi_2014-05-10T23%3a30%3a51.json.gz"
       ]
      },
      {
       "output_type": "stream",
       "stream": "stdout",
       "text": [
        "\n",
        "pypi_2014-05-11T04%3a30%3a48.json.gz"
       ]
      },
      {
       "output_type": "stream",
       "stream": "stdout",
       "text": [
        "\n",
        "pypi_2014-05-11T09%3a30%3a49.json.gz"
       ]
      },
      {
       "output_type": "stream",
       "stream": "stdout",
       "text": [
        "\n",
        "pypi_2014-05-11T14%3a30%3a49.json.gz"
       ]
      },
      {
       "output_type": "stream",
       "stream": "stdout",
       "text": [
        "\n",
        "pypi_2014-05-11T19%3a30%3a52.json.gz"
       ]
      },
      {
       "output_type": "stream",
       "stream": "stdout",
       "text": [
        "\n",
        "pypi_2014-05-12T00%3a30%3a50.json.gz"
       ]
      },
      {
       "output_type": "stream",
       "stream": "stdout",
       "text": [
        "\n",
        "pypi_2014-05-12T05%3a30%3a55.json.gz"
       ]
      },
      {
       "output_type": "stream",
       "stream": "stdout",
       "text": [
        "\n",
        "pypi_2014-05-12T10%3a30%3a50.json.gz"
       ]
      },
      {
       "output_type": "stream",
       "stream": "stdout",
       "text": [
        "\n",
        "pypi_2014-05-12T15%3a30%3a52.json.gz"
       ]
      },
      {
       "output_type": "stream",
       "stream": "stdout",
       "text": [
        "\n",
        "pypi_2014-05-12T20%3a30%3a52.json.gz"
       ]
      },
      {
       "output_type": "stream",
       "stream": "stdout",
       "text": [
        "\n",
        "pypi_2014-05-13T01%3a30%3a49.json.gz"
       ]
      },
      {
       "output_type": "stream",
       "stream": "stdout",
       "text": [
        "\n",
        "pypi_2014-05-13T06%3a30%3a50.json.gz"
       ]
      },
      {
       "output_type": "stream",
       "stream": "stdout",
       "text": [
        "\n",
        "pypi_2014-05-13T11%3a30%3a45.json.gz"
       ]
      },
      {
       "output_type": "stream",
       "stream": "stdout",
       "text": [
        "\n",
        "pypi_2014-05-13T16%3a30%3a48.json.gz"
       ]
      },
      {
       "output_type": "stream",
       "stream": "stdout",
       "text": [
        "\n",
        "pypi_2014-05-13T21%3a30%3a47.json.gz"
       ]
      },
      {
       "output_type": "stream",
       "stream": "stdout",
       "text": [
        "\n",
        "pypi_2014-05-14T02%3a30%3a49.json.gz"
       ]
      },
      {
       "output_type": "stream",
       "stream": "stdout",
       "text": [
        "\n",
        "pypi_2014-05-14T07%3a30%3a48.json.gz"
       ]
      },
      {
       "output_type": "stream",
       "stream": "stdout",
       "text": [
        "\n",
        "pypi_2014-05-14T13%3a00%3a41.json.gz"
       ]
      },
      {
       "output_type": "stream",
       "stream": "stdout",
       "text": [
        "\n",
        "pypi_2014-05-14T18%3a00%3a51.json.gz"
       ]
      },
      {
       "output_type": "stream",
       "stream": "stdout",
       "text": [
        "\n",
        "pypi_2014-05-14T23%3a30%3a51.json.gz"
       ]
      },
      {
       "output_type": "stream",
       "stream": "stdout",
       "text": [
        "\n",
        "pypi_2014-05-15T04%3a30%3a50.json.gz"
       ]
      },
      {
       "output_type": "stream",
       "stream": "stdout",
       "text": [
        "\n",
        "pypi_2014-05-15T09%3a30%3a52.json.gz"
       ]
      },
      {
       "output_type": "stream",
       "stream": "stdout",
       "text": [
        "\n",
        "pypi_2014-05-15T15%3a00%3a53.json.gz"
       ]
      },
      {
       "output_type": "stream",
       "stream": "stdout",
       "text": [
        "\n",
        "pypi_2014-05-15T20%3a00%3a51.json.gz"
       ]
      },
      {
       "output_type": "stream",
       "stream": "stdout",
       "text": [
        "\n",
        "pypi_2014-05-16T01%3a00%3a50.json.gz"
       ]
      },
      {
       "output_type": "stream",
       "stream": "stdout",
       "text": [
        "\n",
        "pypi_2014-05-16T06%3a00%3a50.json.gz"
       ]
      },
      {
       "output_type": "stream",
       "stream": "stdout",
       "text": [
        "\n",
        "pypi_2014-05-16T11%3a00%3a51.json.gz"
       ]
      },
      {
       "output_type": "stream",
       "stream": "stdout",
       "text": [
        "\n",
        "pypi_2014-05-16T16%3a00%3a57.json.gz"
       ]
      },
      {
       "output_type": "stream",
       "stream": "stdout",
       "text": [
        "\n",
        "pypi_2014-05-16T21%3a30%3a52.json.gz"
       ]
      },
      {
       "output_type": "stream",
       "stream": "stdout",
       "text": [
        "\n",
        "pypi_2014-05-17T03%3a30%3a52.json.gz"
       ]
      },
      {
       "output_type": "stream",
       "stream": "stdout",
       "text": [
        "\n",
        "pypi_2014-05-17T08%3a30%3a49.json.gz"
       ]
      },
      {
       "output_type": "stream",
       "stream": "stdout",
       "text": [
        "\n",
        "pypi_2014-05-17T13%3a31%3a11.json.gz"
       ]
      },
      {
       "output_type": "stream",
       "stream": "stdout",
       "text": [
        "\n",
        "pypi_2014-05-17T18%3a30%3a48.json.gz"
       ]
      },
      {
       "output_type": "stream",
       "stream": "stdout",
       "text": [
        "\n",
        "pypi_2014-05-17T23%3a30%3a52.json.gz"
       ]
      },
      {
       "output_type": "stream",
       "stream": "stdout",
       "text": [
        "\n",
        "pypi_2014-05-18T04%3a30%3a51.json.gz"
       ]
      },
      {
       "output_type": "stream",
       "stream": "stdout",
       "text": [
        "\n",
        "pypi_2014-05-18T09%3a30%3a53.json.gz"
       ]
      },
      {
       "output_type": "stream",
       "stream": "stdout",
       "text": [
        "\n",
        "pypi_2014-05-18T14%3a30%3a52.json.gz"
       ]
      },
      {
       "output_type": "stream",
       "stream": "stdout",
       "text": [
        "\n",
        "pypi_2014-05-18T19%3a30%3a49.json.gz"
       ]
      },
      {
       "output_type": "stream",
       "stream": "stdout",
       "text": [
        "\n",
        "pypi_2014-05-19T00%3a30%3a46.json.gz"
       ]
      },
      {
       "output_type": "stream",
       "stream": "stdout",
       "text": [
        "\n",
        "pypi_2014-05-19T05%3a30%3a48.json.gz"
       ]
      },
      {
       "output_type": "stream",
       "stream": "stdout",
       "text": [
        "\n",
        "pypi_2014-05-19T10%3a30%3a47.json.gz"
       ]
      },
      {
       "output_type": "stream",
       "stream": "stdout",
       "text": [
        "\n",
        "pypi_2014-05-19T15%3a30%3a54.json.gz"
       ]
      },
      {
       "output_type": "stream",
       "stream": "stdout",
       "text": [
        "\n",
        "pypi_2014-05-19T20%3a30%3a51.json.gz"
       ]
      },
      {
       "output_type": "stream",
       "stream": "stdout",
       "text": [
        "\n",
        "pypi_2014-05-20T01%3a30%3a42.json.gz"
       ]
      },
      {
       "output_type": "stream",
       "stream": "stdout",
       "text": [
        "\n",
        "pypi_2014-05-20T06%3a30%3a56.json.gz"
       ]
      },
      {
       "output_type": "stream",
       "stream": "stdout",
       "text": [
        "\n",
        "pypi_2014-05-20T11%3a30%3a52.json.gz"
       ]
      },
      {
       "output_type": "stream",
       "stream": "stdout",
       "text": [
        "\n",
        "pypi_2014-05-20T16%3a30%3a48.json.gz"
       ]
      },
      {
       "output_type": "stream",
       "stream": "stdout",
       "text": [
        "\n",
        "pypi_2014-05-20T21%3a30%3a51.json.gz"
       ]
      },
      {
       "output_type": "stream",
       "stream": "stdout",
       "text": [
        "\n",
        "pypi_2014-05-21T02%3a30%3a45.json.gz"
       ]
      },
      {
       "output_type": "stream",
       "stream": "stdout",
       "text": [
        "\n",
        "pypi_2014-05-21T07%3a30%3a50.json.gz"
       ]
      },
      {
       "output_type": "stream",
       "stream": "stdout",
       "text": [
        "\n",
        "pypi_2014-05-21T12%3a30%3a52.json.gz"
       ]
      },
      {
       "output_type": "stream",
       "stream": "stdout",
       "text": [
        "\n",
        "pypi_2014-05-21T17%3a30%3a55.json.gz"
       ]
      },
      {
       "output_type": "stream",
       "stream": "stdout",
       "text": [
        "\n",
        "pypi_2014-05-21T22%3a30%3a52.json.gz"
       ]
      },
      {
       "output_type": "stream",
       "stream": "stdout",
       "text": [
        "\n",
        "pypi_2014-05-22T03%3a30%3a48.json.gz"
       ]
      },
      {
       "output_type": "stream",
       "stream": "stdout",
       "text": [
        "\n",
        "pypi_2014-05-22T08%3a30%3a54.json.gz"
       ]
      },
      {
       "output_type": "stream",
       "stream": "stdout",
       "text": [
        "\n",
        "pypi_2014-05-22T13%3a30%3a52.json.gz"
       ]
      },
      {
       "output_type": "stream",
       "stream": "stdout",
       "text": [
        "\n",
        "pypi_2014-05-22T18%3a30%3a54.json.gz"
       ]
      },
      {
       "output_type": "stream",
       "stream": "stdout",
       "text": [
        "\n",
        "pypi_2014-05-22T23%3a30%3a51.json.gz"
       ]
      },
      {
       "output_type": "stream",
       "stream": "stdout",
       "text": [
        "\n",
        "pypi_2014-05-23T02%3a30%3a49.json.gz"
       ]
      },
      {
       "output_type": "stream",
       "stream": "stdout",
       "text": [
        "\n",
        "pypi_2014-05-23T05%3a30%3a49.json.gz"
       ]
      },
      {
       "output_type": "stream",
       "stream": "stdout",
       "text": [
        "\n",
        "pypi_2014-05-23T08%3a30%3a54.json.gz"
       ]
      },
      {
       "output_type": "stream",
       "stream": "stdout",
       "text": [
        "\n",
        "pypi_2014-05-23T11%3a00%3a54.json.gz"
       ]
      },
      {
       "output_type": "stream",
       "stream": "stdout",
       "text": [
        "\n",
        "pypi_2014-05-23T13%3a30%3a51.json.gz"
       ]
      },
      {
       "output_type": "stream",
       "stream": "stdout",
       "text": [
        "\n",
        "pypi_2014-05-23T16%3a00%3a59.json.gz"
       ]
      },
      {
       "output_type": "stream",
       "stream": "stdout",
       "text": [
        "\n",
        "pypi_2014-05-23T19%3a00%3a56.json.gz"
       ]
      },
      {
       "output_type": "stream",
       "stream": "stdout",
       "text": [
        "\n",
        "pypi_2014-05-23T21%3a30%3a47.json.gz"
       ]
      },
      {
       "output_type": "stream",
       "stream": "stdout",
       "text": [
        "\n",
        "pypi_2014-05-24T00%3a00%3a56.json.gz"
       ]
      },
      {
       "output_type": "stream",
       "stream": "stdout",
       "text": [
        "\n",
        "pypi_2014-05-24T03%3a00%3a51.json.gz"
       ]
      },
      {
       "output_type": "stream",
       "stream": "stdout",
       "text": [
        "\n",
        "pypi_2014-05-24T05%3a30%3a52.json.gz"
       ]
      },
      {
       "output_type": "stream",
       "stream": "stdout",
       "text": [
        "\n",
        "pypi_2014-05-24T08%3a00%3a53.json.gz"
       ]
      },
      {
       "output_type": "stream",
       "stream": "stdout",
       "text": [
        "\n",
        "pypi_2014-05-24T11%3a00%3a51.json.gz"
       ]
      },
      {
       "output_type": "stream",
       "stream": "stdout",
       "text": [
        "\n",
        "pypi_2014-05-24T13%3a30%3a48.json.gz"
       ]
      },
      {
       "output_type": "stream",
       "stream": "stdout",
       "text": [
        "\n",
        "pypi_2014-05-24T16%3a00%3a51.json.gz"
       ]
      },
      {
       "output_type": "stream",
       "stream": "stdout",
       "text": [
        "\n",
        "pypi_2014-05-24T18%3a30%3a49.json.gz"
       ]
      },
      {
       "output_type": "stream",
       "stream": "stdout",
       "text": [
        "\n",
        "pypi_2014-05-24T21%3a00%3a50.json.gz"
       ]
      },
      {
       "output_type": "stream",
       "stream": "stdout",
       "text": [
        "\n",
        "pypi_2014-05-24T23%3a30%3a48.json.gz"
       ]
      },
      {
       "output_type": "stream",
       "stream": "stdout",
       "text": [
        "\n",
        "pypi_2014-05-25T02%3a00%3a46.json.gz"
       ]
      },
      {
       "output_type": "stream",
       "stream": "stdout",
       "text": [
        "\n",
        "pypi_2014-05-25T05%3a00%3a51.json.gz"
       ]
      },
      {
       "output_type": "stream",
       "stream": "stdout",
       "text": [
        "\n",
        "pypi_2014-05-25T08%3a00%3a52.json.gz"
       ]
      },
      {
       "output_type": "stream",
       "stream": "stdout",
       "text": [
        "\n",
        "pypi_2014-05-25T10%3a30%3a52.json.gz"
       ]
      },
      {
       "output_type": "stream",
       "stream": "stdout",
       "text": [
        "\n",
        "pypi_2014-05-25T13%3a30%3a52.json.gz"
       ]
      },
      {
       "output_type": "stream",
       "stream": "stdout",
       "text": [
        "\n",
        "pypi_2014-05-25T16%3a30%3a51.json.gz"
       ]
      },
      {
       "output_type": "stream",
       "stream": "stdout",
       "text": [
        "\n",
        "pypi_2014-05-25T19%3a00%3a50.json.gz"
       ]
      },
      {
       "output_type": "stream",
       "stream": "stdout",
       "text": [
        "\n",
        "pypi_2014-05-25T21%3a30%3a50.json.gz"
       ]
      },
      {
       "output_type": "stream",
       "stream": "stdout",
       "text": [
        "\n",
        "pypi_2014-05-26T02%3a00%3a52.json.gz"
       ]
      },
      {
       "output_type": "stream",
       "stream": "stdout",
       "text": [
        "\n",
        "pypi_2014-05-26T07%3a00%3a50.json.gz"
       ]
      },
      {
       "output_type": "stream",
       "stream": "stdout",
       "text": [
        "\n",
        "pypi_2014-05-26T11%3a30%3a54.json.gz"
       ]
      },
      {
       "output_type": "stream",
       "stream": "stdout",
       "text": [
        "\n",
        "pypi_2014-05-26T16%3a30%3a48.json.gz"
       ]
      },
      {
       "output_type": "stream",
       "stream": "stdout",
       "text": [
        "\n",
        "pypi_2014-05-26T21%3a30%3a53.json.gz"
       ]
      },
      {
       "output_type": "stream",
       "stream": "stdout",
       "text": [
        "\n",
        "pypi_2014-05-27T02%3a30%3a53.json.gz"
       ]
      },
      {
       "output_type": "stream",
       "stream": "stdout",
       "text": [
        "\n",
        "pypi_2014-05-27T07%3a30%3a51.json.gz"
       ]
      },
      {
       "output_type": "stream",
       "stream": "stdout",
       "text": [
        "\n",
        "pypi_2014-05-27T12%3a30%3a55.json.gz"
       ]
      },
      {
       "output_type": "stream",
       "stream": "stdout",
       "text": [
        "\n",
        "pypi_2014-05-27T17%3a30%3a49.json.gz"
       ]
      },
      {
       "output_type": "stream",
       "stream": "stdout",
       "text": [
        "\n",
        "pypi_2014-05-27T23%3a00%3a53.json.gz"
       ]
      },
      {
       "output_type": "stream",
       "stream": "stdout",
       "text": [
        "\n",
        "pypi_2014-05-28T04%3a00%3a54.json.gz"
       ]
      },
      {
       "output_type": "stream",
       "stream": "stdout",
       "text": [
        "\n",
        "pypi_2014-05-28T09%3a00%3a50.json.gz"
       ]
      },
      {
       "output_type": "stream",
       "stream": "stdout",
       "text": [
        "\n",
        "pypi_2014-05-28T14%3a30%3a48.json.gz"
       ]
      },
      {
       "output_type": "stream",
       "stream": "stdout",
       "text": [
        "\n",
        "pypi_2014-05-28T19%3a30%3a47.json.gz"
       ]
      },
      {
       "output_type": "stream",
       "stream": "stdout",
       "text": [
        "\n",
        "pypi_2014-05-29T00%3a30%3a49.json.gz"
       ]
      },
      {
       "output_type": "stream",
       "stream": "stdout",
       "text": [
        "\n",
        "pypi_2014-05-29T06%3a00%3a50.json.gz"
       ]
      },
      {
       "output_type": "stream",
       "stream": "stdout",
       "text": [
        "\n",
        "pypi_2014-05-29T11%3a00%3a55.json.gz"
       ]
      },
      {
       "output_type": "stream",
       "stream": "stdout",
       "text": [
        "\n",
        "pypi_2014-05-29T16%3a00%3a54.json.gz"
       ]
      },
      {
       "output_type": "stream",
       "stream": "stdout",
       "text": [
        "\n",
        "pypi_2014-05-29T21%3a00%3a50.json.gz"
       ]
      },
      {
       "output_type": "stream",
       "stream": "stdout",
       "text": [
        "\n",
        "pypi_2014-05-30T02%3a30%3a50.json.gz"
       ]
      },
      {
       "output_type": "stream",
       "stream": "stdout",
       "text": [
        "\n",
        "pypi_2014-05-30T07%3a30%3a59.json.gz"
       ]
      },
      {
       "output_type": "stream",
       "stream": "stdout",
       "text": [
        "\n",
        "pypi_2014-05-30T12%3a30%3a51.json.gz"
       ]
      },
      {
       "output_type": "stream",
       "stream": "stdout",
       "text": [
        "\n",
        "pypi_2014-05-30T17%3a30%3a50.json.gz"
       ]
      },
      {
       "output_type": "stream",
       "stream": "stdout",
       "text": [
        "\n",
        "pypi_2014-05-30T23%3a00%3a55.json.gz"
       ]
      },
      {
       "output_type": "stream",
       "stream": "stdout",
       "text": [
        "\n",
        "pypi_2014-05-31T04%3a00%3a55.json.gz"
       ]
      },
      {
       "output_type": "stream",
       "stream": "stdout",
       "text": [
        "\n",
        "pypi_2014-05-31T09%3a00%3a51.json.gz"
       ]
      },
      {
       "output_type": "stream",
       "stream": "stdout",
       "text": [
        "\n",
        "pypi_2014-05-31T14%3a00%3a48.json.gz"
       ]
      },
      {
       "output_type": "stream",
       "stream": "stdout",
       "text": [
        "\n",
        "pypi_2014-05-31T19%3a00%3a55.json.gz"
       ]
      },
      {
       "output_type": "stream",
       "stream": "stdout",
       "text": [
        "\n",
        "pypi_2014-06-01T00%3a00%3a48.json.gz"
       ]
      },
      {
       "output_type": "stream",
       "stream": "stdout",
       "text": [
        "\n",
        "pypi_2014-06-01T05%3a00%3a56.json.gz"
       ]
      },
      {
       "output_type": "stream",
       "stream": "stdout",
       "text": [
        "\n",
        "pypi_2014-06-01T10%3a00%3a54.json.gz"
       ]
      },
      {
       "output_type": "stream",
       "stream": "stdout",
       "text": [
        "\n",
        "pypi_2014-06-01T15%3a00%3a51.json.gz"
       ]
      },
      {
       "output_type": "stream",
       "stream": "stdout",
       "text": [
        "\n",
        "pypi_2014-06-01T20%3a00%3a50.json.gz"
       ]
      },
      {
       "output_type": "stream",
       "stream": "stdout",
       "text": [
        "\n",
        "pypi_2014-06-02T01%3a00%3a56.json.gz"
       ]
      },
      {
       "output_type": "stream",
       "stream": "stdout",
       "text": [
        "\n",
        "pypi_2014-06-02T06%3a00%3a54.json.gz"
       ]
      },
      {
       "output_type": "stream",
       "stream": "stdout",
       "text": [
        "\n",
        "pypi_2014-06-02T11%3a00%3a58.json.gz"
       ]
      },
      {
       "output_type": "stream",
       "stream": "stdout",
       "text": [
        "\n",
        "pypi_2014-06-02T16%3a00%3a49.json.gz"
       ]
      },
      {
       "output_type": "stream",
       "stream": "stdout",
       "text": [
        "\n",
        "pypi_2014-06-02T21%3a00%3a54.json.gz"
       ]
      },
      {
       "output_type": "stream",
       "stream": "stdout",
       "text": [
        "\n",
        "pypi_2014-06-03T02%3a00%3a55.json.gz"
       ]
      },
      {
       "output_type": "stream",
       "stream": "stdout",
       "text": [
        "\n",
        "pypi_2014-06-03T07%3a00%3a50.json.gz"
       ]
      },
      {
       "output_type": "stream",
       "stream": "stdout",
       "text": [
        "\n",
        "pypi_2014-06-03T12%3a00%3a53.json.gz"
       ]
      },
      {
       "output_type": "stream",
       "stream": "stdout",
       "text": [
        "\n",
        "pypi_2014-06-03T17%3a00%3a58.json.gz"
       ]
      },
      {
       "output_type": "stream",
       "stream": "stdout",
       "text": [
        "\n",
        "pypi_2014-06-03T22%3a00%3a53.json.gz"
       ]
      },
      {
       "output_type": "stream",
       "stream": "stdout",
       "text": [
        "\n",
        "pypi_2014-06-04T03%3a00%3a52.json.gz"
       ]
      },
      {
       "output_type": "stream",
       "stream": "stdout",
       "text": [
        "\n",
        "pypi_2014-06-04T08%3a00%3a50.json.gz"
       ]
      },
      {
       "output_type": "stream",
       "stream": "stdout",
       "text": [
        "\n",
        "pypi_2014-06-04T13%3a00%3a55.json.gz"
       ]
      },
      {
       "output_type": "stream",
       "stream": "stdout",
       "text": [
        "\n",
        "pypi_2014-06-04T18%3a00%3a50.json.gz"
       ]
      },
      {
       "output_type": "stream",
       "stream": "stdout",
       "text": [
        "\n",
        "pypi_2014-06-04T23%3a30%3a50.json.gz"
       ]
      },
      {
       "output_type": "stream",
       "stream": "stdout",
       "text": [
        "\n",
        "pypi_2014-06-05T05%3a00%3a53.json.gz"
       ]
      },
      {
       "output_type": "stream",
       "stream": "stdout",
       "text": [
        "\n",
        "pypi_2014-06-05T10%3a00%3a53.json.gz"
       ]
      },
      {
       "output_type": "stream",
       "stream": "stdout",
       "text": [
        "\n",
        "pypi_2014-06-05T15%3a00%3a50.json.gz"
       ]
      },
      {
       "output_type": "stream",
       "stream": "stdout",
       "text": [
        "\n",
        "pypi_2014-06-05T20%3a30%3a49.json.gz"
       ]
      },
      {
       "output_type": "stream",
       "stream": "stdout",
       "text": [
        "\n",
        "pypi_2014-06-06T01%3a30%3a54.json.gz"
       ]
      },
      {
       "output_type": "stream",
       "stream": "stdout",
       "text": [
        "\n",
        "pypi_2014-06-06T06%3a30%3a51.json.gz"
       ]
      },
      {
       "output_type": "stream",
       "stream": "stdout",
       "text": [
        "\n",
        "pypi_2014-06-06T11%3a30%3a56.json.gz"
       ]
      },
      {
       "output_type": "stream",
       "stream": "stdout",
       "text": [
        "\n",
        "pypi_2014-06-06T16%3a30%3a50.json.gz"
       ]
      },
      {
       "output_type": "stream",
       "stream": "stdout",
       "text": [
        "\n",
        "pypi_2014-06-06T22%3a00%3a51.json.gz"
       ]
      },
      {
       "output_type": "stream",
       "stream": "stdout",
       "text": [
        "\n",
        "pypi_2014-06-07T03%3a00%3a56.json.gz"
       ]
      },
      {
       "output_type": "stream",
       "stream": "stdout",
       "text": [
        "\n",
        "pypi_2014-06-07T08%3a00%3a58.json.gz"
       ]
      },
      {
       "output_type": "stream",
       "stream": "stdout",
       "text": [
        "\n",
        "pypi_2014-06-07T13%3a00%3a51.json.gz"
       ]
      },
      {
       "output_type": "stream",
       "stream": "stdout",
       "text": [
        "\n",
        "pypi_2014-06-07T18%3a00%3a53.json.gz"
       ]
      },
      {
       "output_type": "stream",
       "stream": "stdout",
       "text": [
        "\n",
        "pypi_2014-06-07T23%3a30%3a52.json.gz"
       ]
      },
      {
       "output_type": "stream",
       "stream": "stdout",
       "text": [
        "\n",
        "pypi_2014-06-08T04%3a30%3a54.json.gz"
       ]
      },
      {
       "output_type": "stream",
       "stream": "stdout",
       "text": [
        "\n",
        "pypi_2014-06-08T09%3a30%3a52.json.gz"
       ]
      },
      {
       "output_type": "stream",
       "stream": "stdout",
       "text": [
        "\n",
        "pypi_2014-06-08T14%3a30%3a51.json.gz"
       ]
      },
      {
       "output_type": "stream",
       "stream": "stdout",
       "text": [
        "\n",
        "pypi_2014-06-08T20%3a00%3a54.json.gz"
       ]
      },
      {
       "output_type": "stream",
       "stream": "stdout",
       "text": [
        "\n",
        "pypi_2014-06-09T01%3a00%3a58.json.gz"
       ]
      },
      {
       "output_type": "stream",
       "stream": "stdout",
       "text": [
        "\n",
        "pypi_2014-06-09T06%3a00%3a52.json.gz"
       ]
      },
      {
       "output_type": "stream",
       "stream": "stdout",
       "text": [
        "\n",
        "pypi_2014-06-09T11%3a00%3a50.json.gz"
       ]
      },
      {
       "output_type": "stream",
       "stream": "stdout",
       "text": [
        "\n",
        "pypi_2014-06-09T16%3a00%3a55.json.gz"
       ]
      },
      {
       "output_type": "stream",
       "stream": "stdout",
       "text": [
        "\n",
        "pypi_2014-06-09T21%3a30%3a55.json.gz"
       ]
      },
      {
       "output_type": "stream",
       "stream": "stdout",
       "text": [
        "\n",
        "pypi_2014-06-10T02%3a30%3a53.json.gz"
       ]
      },
      {
       "output_type": "stream",
       "stream": "stdout",
       "text": [
        "\n",
        "pypi_2014-06-10T08%3a00%3a57.json.gz"
       ]
      },
      {
       "output_type": "stream",
       "stream": "stdout",
       "text": [
        "\n",
        "pypi_2014-06-10T13%3a00%3a57.json.gz"
       ]
      },
      {
       "output_type": "stream",
       "stream": "stdout",
       "text": [
        "\n",
        "pypi_2014-06-10T18%3a00%3a55.json.gz"
       ]
      },
      {
       "output_type": "stream",
       "stream": "stdout",
       "text": [
        "\n",
        "pypi_2014-06-10T23%3a30%3a53.json.gz"
       ]
      },
      {
       "output_type": "stream",
       "stream": "stdout",
       "text": [
        "\n",
        "pypi_2014-06-11T04%3a30%3a52.json.gz"
       ]
      },
      {
       "output_type": "stream",
       "stream": "stdout",
       "text": [
        "\n",
        "pypi_2014-06-11T09%3a30%3a57.json.gz"
       ]
      },
      {
       "output_type": "stream",
       "stream": "stdout",
       "text": [
        "\n",
        "pypi_2014-06-11T14%3a30%3a53.json.gz"
       ]
      },
      {
       "output_type": "stream",
       "stream": "stdout",
       "text": [
        "\n",
        "pypi_2014-06-11T19%3a30%3a53.json.gz"
       ]
      },
      {
       "output_type": "stream",
       "stream": "stdout",
       "text": [
        "\n",
        "pypi_2014-06-12T00%3a30%3a53.json.gz"
       ]
      },
      {
       "output_type": "stream",
       "stream": "stdout",
       "text": [
        "\n",
        "pypi_2014-06-12T05%3a30%3a49.json.gz"
       ]
      },
      {
       "output_type": "stream",
       "stream": "stdout",
       "text": [
        "\n",
        "pypi_2014-06-12T10%3a31%3a02.json.gz"
       ]
      },
      {
       "output_type": "stream",
       "stream": "stdout",
       "text": [
        "\n",
        "pypi_2014-06-12T15%3a30%3a50.json.gz"
       ]
      },
      {
       "output_type": "stream",
       "stream": "stdout",
       "text": [
        "\n",
        "pypi_2014-06-12T20%3a30%3a51.json.gz"
       ]
      },
      {
       "output_type": "stream",
       "stream": "stdout",
       "text": [
        "\n",
        "pypi_2014-06-13T01%3a30%3a52.json.gz"
       ]
      },
      {
       "output_type": "stream",
       "stream": "stdout",
       "text": [
        "\n",
        "pypi_2014-06-13T06%3a30%3a52.json.gz"
       ]
      },
      {
       "output_type": "stream",
       "stream": "stdout",
       "text": [
        "\n",
        "pypi_2014-06-13T11%3a30%3a53.json.gz"
       ]
      },
      {
       "output_type": "stream",
       "stream": "stdout",
       "text": [
        "\n",
        "pypi_2014-06-13T16%3a30%3a55.json.gz"
       ]
      },
      {
       "output_type": "stream",
       "stream": "stdout",
       "text": [
        "\n",
        "pypi_2014-06-13T21%3a30%3a55.json.gz"
       ]
      },
      {
       "output_type": "stream",
       "stream": "stdout",
       "text": [
        "\n",
        "pypi_2014-06-14T02%3a30%3a50.json.gz"
       ]
      },
      {
       "output_type": "stream",
       "stream": "stdout",
       "text": [
        "\n",
        "pypi_2014-06-14T07%3a30%3a54.json.gz"
       ]
      },
      {
       "output_type": "stream",
       "stream": "stdout",
       "text": [
        "\n",
        "pypi_2014-06-14T12%3a30%3a54.json.gz"
       ]
      },
      {
       "output_type": "stream",
       "stream": "stdout",
       "text": [
        "\n",
        "pypi_2014-06-14T17%3a30%3a53.json.gz"
       ]
      },
      {
       "output_type": "stream",
       "stream": "stdout",
       "text": [
        "\n",
        "pypi_2014-06-14T22%3a30%3a54.json.gz"
       ]
      },
      {
       "output_type": "stream",
       "stream": "stdout",
       "text": [
        "\n",
        "pypi_2014-06-15T03%3a30%3a52.json.gz"
       ]
      },
      {
       "output_type": "stream",
       "stream": "stdout",
       "text": [
        "\n",
        "pypi_2014-06-15T08%3a30%3a55.json.gz"
       ]
      },
      {
       "output_type": "stream",
       "stream": "stdout",
       "text": [
        "\n",
        "pypi_2014-06-15T14%3a00%3a58.json.gz"
       ]
      },
      {
       "output_type": "stream",
       "stream": "stdout",
       "text": [
        "\n",
        "pypi_2014-06-15T19%3a30%3a54.json.gz"
       ]
      },
      {
       "output_type": "stream",
       "stream": "stdout",
       "text": [
        "\n",
        "pypi_2014-06-16T00%3a30%3a51.json.gz"
       ]
      },
      {
       "output_type": "stream",
       "stream": "stdout",
       "text": [
        "\n",
        "pypi_2014-06-16T05%3a30%3a52.json.gz"
       ]
      },
      {
       "output_type": "stream",
       "stream": "stdout",
       "text": [
        "\n",
        "pypi_2014-06-16T10%3a30%3a55.json.gz"
       ]
      },
      {
       "output_type": "stream",
       "stream": "stdout",
       "text": [
        "\n",
        "pypi_2014-06-16T15%3a30%3a50.json.gz"
       ]
      },
      {
       "output_type": "stream",
       "stream": "stdout",
       "text": [
        "\n",
        "pypi_2014-06-16T21%3a00%3a54.json.gz"
       ]
      },
      {
       "output_type": "stream",
       "stream": "stdout",
       "text": [
        "\n",
        "pypi_2014-06-17T02%3a30%3a54.json.gz"
       ]
      },
      {
       "output_type": "stream",
       "stream": "stdout",
       "text": [
        "\n",
        "pypi_2014-06-17T07%3a30%3a55.json.gz"
       ]
      },
      {
       "output_type": "stream",
       "stream": "stdout",
       "text": [
        "\n",
        "pypi_2014-06-17T12%3a30%3a52.json.gz"
       ]
      },
      {
       "output_type": "stream",
       "stream": "stdout",
       "text": [
        "\n",
        "pypi_2014-06-17T17%3a30%3a51.json.gz"
       ]
      },
      {
       "output_type": "stream",
       "stream": "stdout",
       "text": [
        "\n",
        "pypi_2014-06-17T22%3a30%3a52.json.gz"
       ]
      },
      {
       "output_type": "stream",
       "stream": "stdout",
       "text": [
        "\n",
        "pypi_2014-06-18T03%3a30%3a50.json.gz"
       ]
      },
      {
       "output_type": "stream",
       "stream": "stdout",
       "text": [
        "\n",
        "pypi_2014-06-18T08%3a30%3a54.json.gz"
       ]
      },
      {
       "output_type": "stream",
       "stream": "stdout",
       "text": [
        "\n",
        "pypi_2014-06-18T13%3a30%3a53.json.gz"
       ]
      },
      {
       "output_type": "stream",
       "stream": "stdout",
       "text": [
        "\n",
        "pypi_2014-06-18T19%3a01%3a01.json.gz"
       ]
      },
      {
       "output_type": "stream",
       "stream": "stdout",
       "text": [
        "\n",
        "pypi_2014-06-19T00%3a00%3a59.json.gz"
       ]
      },
      {
       "output_type": "stream",
       "stream": "stdout",
       "text": [
        "\n",
        "pypi_2014-06-19T05%3a00%3a52.json.gz"
       ]
      },
      {
       "output_type": "stream",
       "stream": "stdout",
       "text": [
        "\n",
        "pypi_2014-06-19T10%3a00%3a58.json.gz"
       ]
      },
      {
       "output_type": "stream",
       "stream": "stdout",
       "text": [
        "\n",
        "pypi_2014-06-19T15%3a30%3a55.json.gz"
       ]
      },
      {
       "output_type": "stream",
       "stream": "stdout",
       "text": [
        "\n",
        "pypi_2014-06-19T21%3a00%3a56.json.gz"
       ]
      },
      {
       "output_type": "stream",
       "stream": "stdout",
       "text": [
        "\n",
        "pypi_2014-06-20T02%3a00%3a58.json.gz"
       ]
      },
      {
       "output_type": "stream",
       "stream": "stdout",
       "text": [
        "\n",
        "pypi_2014-06-20T07%3a30%3a54.json.gz"
       ]
      },
      {
       "output_type": "stream",
       "stream": "stdout",
       "text": [
        "\n",
        "pypi_2014-06-20T12%3a30%3a57.json.gz"
       ]
      },
      {
       "output_type": "stream",
       "stream": "stdout",
       "text": [
        "\n",
        "pypi_2014-06-20T18%3a00%3a59.json.gz"
       ]
      },
      {
       "output_type": "stream",
       "stream": "stdout",
       "text": [
        "\n",
        "pypi_2014-06-20T23%3a00%3a58.json.gz"
       ]
      },
      {
       "output_type": "stream",
       "stream": "stdout",
       "text": [
        "\n",
        "pypi_2014-06-21T04%3a00%3a54.json.gz"
       ]
      },
      {
       "output_type": "stream",
       "stream": "stdout",
       "text": [
        "\n",
        "pypi_2014-06-21T09%3a00%3a56.json.gz"
       ]
      },
      {
       "output_type": "stream",
       "stream": "stdout",
       "text": [
        "\n",
        "pypi_2014-06-21T14%3a00%3a54.json.gz"
       ]
      },
      {
       "output_type": "stream",
       "stream": "stdout",
       "text": [
        "\n",
        "pypi_2014-06-21T19%3a00%3a53.json.gz"
       ]
      },
      {
       "output_type": "stream",
       "stream": "stdout",
       "text": [
        "\n",
        "pypi_2014-06-22T00%3a00%3a54.json.gz"
       ]
      },
      {
       "output_type": "stream",
       "stream": "stdout",
       "text": [
        "\n",
        "pypi_2014-06-22T05%3a00%3a56.json.gz"
       ]
      },
      {
       "output_type": "stream",
       "stream": "stdout",
       "text": [
        "\n",
        "pypi_2014-06-22T10%3a00%3a53.json.gz"
       ]
      },
      {
       "output_type": "stream",
       "stream": "stdout",
       "text": [
        "\n",
        "pypi_2014-06-22T15%3a00%3a55.json.gz"
       ]
      },
      {
       "output_type": "stream",
       "stream": "stdout",
       "text": [
        "\n",
        "pypi_2014-06-22T20%3a30%3a57.json.gz"
       ]
      },
      {
       "output_type": "stream",
       "stream": "stdout",
       "text": [
        "\n",
        "pypi_2014-06-23T01%3a30%3a55.json.gz"
       ]
      },
      {
       "output_type": "stream",
       "stream": "stdout",
       "text": [
        "\n",
        "pypi_2014-06-23T06%3a30%3a52.json.gz"
       ]
      },
      {
       "output_type": "stream",
       "stream": "stdout",
       "text": [
        "\n",
        "pypi_2014-06-23T11%3a30%3a54.json.gz"
       ]
      },
      {
       "output_type": "stream",
       "stream": "stdout",
       "text": [
        "\n",
        "pypi_2014-06-23T16%3a31%3a01.json.gz"
       ]
      },
      {
       "output_type": "stream",
       "stream": "stdout",
       "text": [
        "\n",
        "pypi_2014-06-23T22%3a00%3a57.json.gz"
       ]
      },
      {
       "output_type": "stream",
       "stream": "stdout",
       "text": [
        "\n",
        "pypi_2014-06-24T03%3a00%3a58.json.gz"
       ]
      },
      {
       "output_type": "stream",
       "stream": "stdout",
       "text": [
        "\n",
        "pypi_2014-06-24T08%3a00%3a58.json.gz"
       ]
      },
      {
       "output_type": "stream",
       "stream": "stdout",
       "text": [
        "\n",
        "pypi_2014-06-24T13%3a00%3a57.json.gz"
       ]
      },
      {
       "output_type": "stream",
       "stream": "stdout",
       "text": [
        "\n",
        "pypi_2014-06-24T18%3a00%3a59.json.gz"
       ]
      },
      {
       "output_type": "stream",
       "stream": "stdout",
       "text": [
        "\n",
        "pypi_2014-06-25T00%3a00%3a50.json.gz"
       ]
      },
      {
       "output_type": "stream",
       "stream": "stdout",
       "text": [
        "\n",
        "pypi_2014-06-25T05%3a30%3a53.json.gz"
       ]
      },
      {
       "output_type": "stream",
       "stream": "stdout",
       "text": [
        "\n",
        "pypi_2014-06-25T10%3a30%3a53.json.gz"
       ]
      },
      {
       "output_type": "stream",
       "stream": "stdout",
       "text": [
        "\n",
        "pypi_2014-06-25T15%3a30%3a54.json.gz"
       ]
      },
      {
       "output_type": "stream",
       "stream": "stdout",
       "text": [
        "\n",
        "pypi_2014-06-25T21%3a30%3a57.json.gz"
       ]
      },
      {
       "output_type": "stream",
       "stream": "stdout",
       "text": [
        "\n",
        "pypi_2014-06-26T02%3a30%3a54.json.gz"
       ]
      },
      {
       "output_type": "stream",
       "stream": "stdout",
       "text": [
        "\n",
        "pypi_2014-06-26T07%3a30%3a53.json.gz"
       ]
      },
      {
       "output_type": "stream",
       "stream": "stdout",
       "text": [
        "\n",
        "pypi_2014-06-26T12%3a30%3a54.json.gz"
       ]
      },
      {
       "output_type": "stream",
       "stream": "stdout",
       "text": [
        "\n",
        "pypi_2014-06-26T17%3a30%3a51.json.gz"
       ]
      },
      {
       "output_type": "stream",
       "stream": "stdout",
       "text": [
        "\n",
        "pypi_2014-06-26T22%3a30%3a56.json.gz"
       ]
      },
      {
       "output_type": "stream",
       "stream": "stdout",
       "text": [
        "\n",
        "pypi_2014-06-27T04%3a00%3a56.json.gz"
       ]
      },
      {
       "output_type": "stream",
       "stream": "stdout",
       "text": [
        "\n",
        "pypi_2014-06-27T09%3a00%3a51.json.gz"
       ]
      },
      {
       "output_type": "stream",
       "stream": "stdout",
       "text": [
        "\n",
        "pypi_2014-06-27T14%3a01%3a00.json.gz"
       ]
      },
      {
       "output_type": "stream",
       "stream": "stdout",
       "text": [
        "\n",
        "pypi_2014-06-27T19%3a30%3a56.json.gz"
       ]
      },
      {
       "output_type": "stream",
       "stream": "stdout",
       "text": [
        "\n",
        "pypi_2014-06-28T01%3a00%3a52.json.gz"
       ]
      },
      {
       "output_type": "stream",
       "stream": "stdout",
       "text": [
        "\n",
        "pypi_2014-06-28T06%3a00%3a49.json.gz"
       ]
      },
      {
       "output_type": "stream",
       "stream": "stdout",
       "text": [
        "\n",
        "pypi_2014-06-28T11%3a00%3a54.json.gz"
       ]
      },
      {
       "output_type": "stream",
       "stream": "stdout",
       "text": [
        "\n",
        "pypi_2014-06-28T16%3a00%3a54.json.gz"
       ]
      },
      {
       "output_type": "stream",
       "stream": "stdout",
       "text": [
        "\n",
        "pypi_2014-06-28T21%3a30%3a58.json.gz"
       ]
      },
      {
       "output_type": "stream",
       "stream": "stdout",
       "text": [
        "\n",
        "pypi_2014-06-29T02%3a30%3a52.json.gz"
       ]
      },
      {
       "output_type": "stream",
       "stream": "stdout",
       "text": [
        "\n",
        "pypi_2014-06-29T07%3a30%3a53.json.gz"
       ]
      },
      {
       "output_type": "stream",
       "stream": "stdout",
       "text": [
        "\n",
        "pypi_2014-06-29T12%3a30%3a56.json.gz"
       ]
      },
      {
       "output_type": "stream",
       "stream": "stdout",
       "text": [
        "\n",
        "pypi_2014-06-29T17%3a30%3a51.json.gz"
       ]
      },
      {
       "output_type": "stream",
       "stream": "stdout",
       "text": [
        "\n",
        "pypi_2014-06-29T22%3a30%3a51.json.gz"
       ]
      },
      {
       "output_type": "stream",
       "stream": "stdout",
       "text": [
        "\n",
        "pypi_2014-06-30T03%3a30%3a55.json.gz"
       ]
      },
      {
       "output_type": "stream",
       "stream": "stdout",
       "text": [
        "\n",
        "pypi_2014-06-30T08%3a30%3a55.json.gz"
       ]
      },
      {
       "output_type": "stream",
       "stream": "stdout",
       "text": [
        "\n",
        "pypi_2014-06-30T13%3a30%3a50.json.gz"
       ]
      },
      {
       "output_type": "stream",
       "stream": "stdout",
       "text": [
        "\n",
        "pypi_2014-06-30T18%3a30%3a48.json.gz"
       ]
      },
      {
       "output_type": "stream",
       "stream": "stdout",
       "text": [
        "\n",
        "pypi_2014-06-30T23%3a30%3a50.json.gz"
       ]
      },
      {
       "output_type": "stream",
       "stream": "stdout",
       "text": [
        "\n",
        "pypi_2014-07-01T04%3a30%3a50.json.gz"
       ]
      },
      {
       "output_type": "stream",
       "stream": "stdout",
       "text": [
        "\n",
        "pypi_2014-07-01T09%3a30%3a48.json.gz"
       ]
      },
      {
       "output_type": "stream",
       "stream": "stdout",
       "text": [
        "\n",
        "pypi_2014-07-01T14%3a30%3a52.json.gz"
       ]
      },
      {
       "output_type": "stream",
       "stream": "stdout",
       "text": [
        "\n",
        "pypi_2014-07-01T19%3a30%3a54.json.gz"
       ]
      },
      {
       "output_type": "stream",
       "stream": "stdout",
       "text": [
        "\n",
        "pypi_2014-07-02T00%3a30%3a50.json.gz"
       ]
      },
      {
       "output_type": "stream",
       "stream": "stdout",
       "text": [
        "\n",
        "pypi_2014-07-02T06%3a00%3a59.json.gz"
       ]
      },
      {
       "output_type": "stream",
       "stream": "stdout",
       "text": [
        "\n",
        "pypi_2014-07-02T11%3a00%3a58.json.gz"
       ]
      },
      {
       "output_type": "stream",
       "stream": "stdout",
       "text": [
        "\n",
        "pypi_2014-07-02T16%3a00%3a56.json.gz"
       ]
      },
      {
       "output_type": "stream",
       "stream": "stdout",
       "text": [
        "\n",
        "pypi_2014-07-02T21%3a01%3a01.json.gz"
       ]
      },
      {
       "output_type": "stream",
       "stream": "stdout",
       "text": [
        "\n",
        "pypi_2014-07-03T02%3a00%3a57.json.gz"
       ]
      },
      {
       "output_type": "stream",
       "stream": "stdout",
       "text": [
        "\n",
        "pypi_2014-07-03T07%3a00%3a55.json.gz"
       ]
      },
      {
       "output_type": "stream",
       "stream": "stdout",
       "text": [
        "\n",
        "pypi_2014-07-03T12%3a00%3a56.json.gz"
       ]
      },
      {
       "output_type": "stream",
       "stream": "stdout",
       "text": [
        "\n",
        "pypi_2014-07-03T17%3a30%3a56.json.gz"
       ]
      },
      {
       "output_type": "stream",
       "stream": "stdout",
       "text": [
        "\n",
        "pypi_2014-07-03T22%3a30%3a52.json.gz"
       ]
      },
      {
       "output_type": "stream",
       "stream": "stdout",
       "text": [
        "\n",
        "pypi_2014-07-04T03%3a30%3a49.json.gz"
       ]
      },
      {
       "output_type": "stream",
       "stream": "stdout",
       "text": [
        "\n",
        "pypi_2014-07-04T08%3a30%3a53.json.gz"
       ]
      },
      {
       "output_type": "stream",
       "stream": "stdout",
       "text": [
        "\n",
        "pypi_2014-07-04T13%3a30%3a52.json.gz"
       ]
      },
      {
       "output_type": "stream",
       "stream": "stdout",
       "text": [
        "\n",
        "pypi_2014-07-04T18%3a30%3a56.json.gz"
       ]
      },
      {
       "output_type": "stream",
       "stream": "stdout",
       "text": [
        "\n",
        "pypi_2014-07-04T23%3a30%3a57.json.gz"
       ]
      },
      {
       "output_type": "stream",
       "stream": "stdout",
       "text": [
        "\n",
        "pypi_2014-07-05T04%3a30%3a50.json.gz"
       ]
      },
      {
       "output_type": "stream",
       "stream": "stdout",
       "text": [
        "\n",
        "pypi_2014-07-05T09%3a30%3a54.json.gz"
       ]
      },
      {
       "output_type": "stream",
       "stream": "stdout",
       "text": [
        "\n",
        "pypi_2014-07-05T14%3a30%3a50.json.gz"
       ]
      },
      {
       "output_type": "stream",
       "stream": "stdout",
       "text": [
        "\n",
        "pypi_2014-07-05T20%3a00%3a53.json.gz"
       ]
      },
      {
       "output_type": "stream",
       "stream": "stdout",
       "text": [
        "\n",
        "pypi_2014-07-06T01%3a00%3a49.json.gz"
       ]
      },
      {
       "output_type": "stream",
       "stream": "stdout",
       "text": [
        "\n",
        "pypi_2014-07-06T06%3a00%3a52.json.gz"
       ]
      },
      {
       "output_type": "stream",
       "stream": "stdout",
       "text": [
        "\n",
        "pypi_2014-07-06T11%3a00%3a55.json.gz"
       ]
      },
      {
       "output_type": "stream",
       "stream": "stdout",
       "text": [
        "\n",
        "pypi_2014-07-06T16%3a00%3a54.json.gz"
       ]
      },
      {
       "output_type": "stream",
       "stream": "stdout",
       "text": [
        "\n",
        "pypi_2014-07-06T21%3a30%3a55.json.gz"
       ]
      },
      {
       "output_type": "stream",
       "stream": "stdout",
       "text": [
        "\n",
        "pypi_2014-07-07T02%3a30%3a57.json.gz"
       ]
      },
      {
       "output_type": "stream",
       "stream": "stdout",
       "text": [
        "\n",
        "pypi_2014-07-07T07%3a30%3a50.json.gz"
       ]
      },
      {
       "output_type": "stream",
       "stream": "stdout",
       "text": [
        "\n",
        "pypi_2014-07-07T12%3a30%3a53.json.gz"
       ]
      },
      {
       "output_type": "stream",
       "stream": "stdout",
       "text": [
        "\n",
        "pypi_2014-07-07T17%3a30%3a50.json.gz"
       ]
      },
      {
       "output_type": "stream",
       "stream": "stdout",
       "text": [
        "\n",
        "pypi_2014-07-07T23%3a00%3a51.json.gz"
       ]
      },
      {
       "output_type": "stream",
       "stream": "stdout",
       "text": [
        "\n",
        "pypi_2014-07-08T04%3a00%3a59.json.gz"
       ]
      },
      {
       "output_type": "stream",
       "stream": "stdout",
       "text": [
        "\n",
        "pypi_2014-07-08T09%3a00%3a57.json.gz"
       ]
      },
      {
       "output_type": "stream",
       "stream": "stdout",
       "text": [
        "\n",
        "pypi_2014-07-08T14%3a00%3a56.json.gz"
       ]
      },
      {
       "output_type": "stream",
       "stream": "stdout",
       "text": [
        "\n",
        "pypi_2014-07-08T19%3a30%3a50.json.gz"
       ]
      },
      {
       "output_type": "stream",
       "stream": "stdout",
       "text": [
        "\n",
        "pypi_2014-07-09T00%3a30%3a49.json.gz"
       ]
      },
      {
       "output_type": "stream",
       "stream": "stdout",
       "text": [
        "\n",
        "pypi_2014-07-09T05%3a30%3a50.json.gz"
       ]
      },
      {
       "output_type": "stream",
       "stream": "stdout",
       "text": [
        "\n",
        "pypi_2014-07-09T11%3a00%3a55.json.gz"
       ]
      },
      {
       "output_type": "stream",
       "stream": "stdout",
       "text": [
        "\n",
        "pypi_2014-07-09T16%3a30%3a48.json.gz"
       ]
      },
      {
       "output_type": "stream",
       "stream": "stdout",
       "text": [
        "\n",
        "pypi_2014-07-09T22%3a30%3a53.json.gz"
       ]
      },
      {
       "output_type": "stream",
       "stream": "stdout",
       "text": [
        "\n",
        "pypi_2014-07-10T03%3a30%3a50.json.gz"
       ]
      },
      {
       "output_type": "stream",
       "stream": "stdout",
       "text": [
        "\n",
        "pypi_2014-07-10T08%3a30%3a54.json.gz"
       ]
      },
      {
       "output_type": "stream",
       "stream": "stdout",
       "text": [
        "\n",
        "pypi_2014-07-10T14%3a00%3a51.json.gz"
       ]
      },
      {
       "output_type": "stream",
       "stream": "stdout",
       "text": [
        "\n",
        "pypi_2014-07-10T19%3a30%3a48.json.gz"
       ]
      },
      {
       "output_type": "stream",
       "stream": "stdout",
       "text": [
        "\n",
        "pypi_2014-07-11T00%3a30%3a48.json.gz"
       ]
      },
      {
       "output_type": "stream",
       "stream": "stdout",
       "text": [
        "\n",
        "pypi_2014-07-11T05%3a30%3a51.json.gz"
       ]
      },
      {
       "output_type": "stream",
       "stream": "stdout",
       "text": [
        "\n",
        "pypi_2014-07-11T10%3a30%3a47.json.gz"
       ]
      },
      {
       "output_type": "stream",
       "stream": "stdout",
       "text": [
        "\n",
        "pypi_2014-07-11T15%3a30%3a52.json.gz"
       ]
      },
      {
       "output_type": "stream",
       "stream": "stdout",
       "text": [
        "\n"
       ]
      },
      {
       "metadata": {},
       "output_type": "display_data",
       "png": "[encoded data removed]",
       "text": [
        "<matplotlib.figure.Figure at 0x109036350>"
       ]
      }
     ],
     "prompt_number": 9
    },
    {
     "cell_type": "code",
     "collapsed": false,
     "input": [
      "py2 = compute_count_frame(python_version='python_two')    \n",
      "py2.plot(figsize=(20, 8));"
     ],
     "language": "python",
     "metadata": {},
     "outputs": [
      {
       "output_type": "stream",
       "stream": "stdout",
       "text": [
        "pypi_2014-05-06T09%3a12%3a03.json.gz\n",
        "pypi_2014-05-06T13%3a30%3a51.json.gz"
       ]
      },
      {
       "output_type": "stream",
       "stream": "stdout",
       "text": [
        "\n",
        "pypi_2014-05-06T18%3a30%3a53.json.gz"
       ]
      },
      {
       "output_type": "stream",
       "stream": "stdout",
       "text": [
        "\n",
        "pypi_2014-05-06T23%3a30%3a52.json.gz"
       ]
      },
      {
       "output_type": "stream",
       "stream": "stdout",
       "text": [
        "\n",
        "pypi_2014-05-07T04%3a30%3a48.json.gz"
       ]
      },
      {
       "output_type": "stream",
       "stream": "stdout",
       "text": [
        "\n",
        "pypi_2014-05-07T09%3a30%3a53.json.gz"
       ]
      },
      {
       "output_type": "stream",
       "stream": "stdout",
       "text": [
        "\n",
        "pypi_2014-05-07T14%3a30%3a45.json.gz"
       ]
      },
      {
       "output_type": "stream",
       "stream": "stdout",
       "text": [
        "\n",
        "pypi_2014-05-07T19%3a30%3a55.json.gz"
       ]
      },
      {
       "output_type": "stream",
       "stream": "stdout",
       "text": [
        "\n",
        "pypi_2014-05-08T00%3a30%3a56.json.gz"
       ]
      },
      {
       "output_type": "stream",
       "stream": "stdout",
       "text": [
        "\n",
        "pypi_2014-05-08T06%3a00%3a47.json.gz"
       ]
      },
      {
       "output_type": "stream",
       "stream": "stdout",
       "text": [
        "\n",
        "pypi_2014-05-08T11%3a00%3a52.json.gz"
       ]
      },
      {
       "output_type": "stream",
       "stream": "stdout",
       "text": [
        "\n",
        "pypi_2014-05-08T16%3a00%3a50.json.gz"
       ]
      },
      {
       "output_type": "stream",
       "stream": "stdout",
       "text": [
        "\n",
        "pypi_2014-05-08T21%3a00%3a53.json.gz"
       ]
      },
      {
       "output_type": "stream",
       "stream": "stdout",
       "text": [
        "\n",
        "pypi_2014-05-09T02%3a00%3a51.json.gz"
       ]
      },
      {
       "output_type": "stream",
       "stream": "stdout",
       "text": [
        "\n",
        "pypi_2014-05-09T07%3a00%3a50.json.gz"
       ]
      },
      {
       "output_type": "stream",
       "stream": "stdout",
       "text": [
        "\n",
        "pypi_2014-05-09T12%3a00%3a50.json.gz"
       ]
      },
      {
       "output_type": "stream",
       "stream": "stdout",
       "text": [
        "\n",
        "pypi_2014-05-09T17%3a00%3a57.json.gz"
       ]
      },
      {
       "output_type": "stream",
       "stream": "stdout",
       "text": [
        "\n",
        "pypi_2014-05-09T22%3a00%3a51.json.gz"
       ]
      },
      {
       "output_type": "stream",
       "stream": "stdout",
       "text": [
        "\n",
        "pypi_2014-05-10T03%3a00%3a57.json.gz"
       ]
      },
      {
       "output_type": "stream",
       "stream": "stdout",
       "text": [
        "\n",
        "pypi_2014-05-10T08%3a00%3a47.json.gz"
       ]
      },
      {
       "output_type": "stream",
       "stream": "stdout",
       "text": [
        "\n",
        "pypi_2014-05-10T13%3a30%3a52.json.gz"
       ]
      },
      {
       "output_type": "stream",
       "stream": "stdout",
       "text": [
        "\n",
        "pypi_2014-05-10T18%3a30%3a55.json.gz"
       ]
      },
      {
       "output_type": "stream",
       "stream": "stdout",
       "text": [
        "\n",
        "pypi_2014-05-10T23%3a30%3a51.json.gz"
       ]
      },
      {
       "output_type": "stream",
       "stream": "stdout",
       "text": [
        "\n",
        "pypi_2014-05-11T04%3a30%3a48.json.gz"
       ]
      },
      {
       "output_type": "stream",
       "stream": "stdout",
       "text": [
        "\n",
        "pypi_2014-05-11T09%3a30%3a49.json.gz"
       ]
      },
      {
       "output_type": "stream",
       "stream": "stdout",
       "text": [
        "\n",
        "pypi_2014-05-11T14%3a30%3a49.json.gz"
       ]
      },
      {
       "output_type": "stream",
       "stream": "stdout",
       "text": [
        "\n",
        "pypi_2014-05-11T19%3a30%3a52.json.gz"
       ]
      },
      {
       "output_type": "stream",
       "stream": "stdout",
       "text": [
        "\n",
        "pypi_2014-05-12T00%3a30%3a50.json.gz"
       ]
      },
      {
       "output_type": "stream",
       "stream": "stdout",
       "text": [
        "\n",
        "pypi_2014-05-12T05%3a30%3a55.json.gz"
       ]
      },
      {
       "output_type": "stream",
       "stream": "stdout",
       "text": [
        "\n",
        "pypi_2014-05-12T10%3a30%3a50.json.gz"
       ]
      },
      {
       "output_type": "stream",
       "stream": "stdout",
       "text": [
        "\n",
        "pypi_2014-05-12T15%3a30%3a52.json.gz"
       ]
      },
      {
       "output_type": "stream",
       "stream": "stdout",
       "text": [
        "\n",
        "pypi_2014-05-12T20%3a30%3a52.json.gz"
       ]
      },
      {
       "output_type": "stream",
       "stream": "stdout",
       "text": [
        "\n",
        "pypi_2014-05-13T01%3a30%3a49.json.gz"
       ]
      },
      {
       "output_type": "stream",
       "stream": "stdout",
       "text": [
        "\n",
        "pypi_2014-05-13T06%3a30%3a50.json.gz"
       ]
      },
      {
       "output_type": "stream",
       "stream": "stdout",
       "text": [
        "\n",
        "pypi_2014-05-13T11%3a30%3a45.json.gz"
       ]
      },
      {
       "output_type": "stream",
       "stream": "stdout",
       "text": [
        "\n"
       ]
      },
      {
       "ename": "ConnectionError",
       "evalue": "HTTPConnectionPool(host='lidlbit.com', port=8888): Max retries exceeded with url: //pypi_2014-05-13T11%3a30%3a45.json.gz (Caused by <class 'socket.gaierror'>: [Errno 8] nodename nor servname provided, or not known)",
       "output_type": "pyerr",
       "traceback": [
        "\u001b[0;31m---------------------------------------------------------------------------\u001b[0m\n\u001b[0;31mConnectionError\u001b[0m                           Traceback (most recent call last)",
        "\u001b[0;32m<ipython-input-10-d897f8e5e3fe>\u001b[0m in \u001b[0;36m<module>\u001b[0;34m()\u001b[0m\n\u001b[0;32m----> 1\u001b[0;31m \u001b[0mpy2\u001b[0m \u001b[0;34m=\u001b[0m \u001b[0mcompute_count_frame\u001b[0m\u001b[0;34m(\u001b[0m\u001b[0mpython_version\u001b[0m\u001b[0;34m=\u001b[0m\u001b[0;34m'python_two'\u001b[0m\u001b[0;34m)\u001b[0m\u001b[0;34m\u001b[0m\u001b[0m\n\u001b[0m\u001b[1;32m      2\u001b[0m \u001b[0mpy2\u001b[0m\u001b[0;34m.\u001b[0m\u001b[0mplot\u001b[0m\u001b[0;34m(\u001b[0m\u001b[0mfigsize\u001b[0m\u001b[0;34m=\u001b[0m\u001b[0;34m(\u001b[0m\u001b[0;36m20\u001b[0m\u001b[0;34m,\u001b[0m \u001b[0;36m8\u001b[0m\u001b[0;34m)\u001b[0m\u001b[0;34m)\u001b[0m\u001b[0;34m;\u001b[0m\u001b[0;34m\u001b[0m\u001b[0m\n",
        "\u001b[0;32m<ipython-input-8-a2d68300ef09>\u001b[0m in \u001b[0;36mcompute_count_frame\u001b[0;34m(python_version)\u001b[0m\n\u001b[1;32m      3\u001b[0m     \u001b[0;32mfor\u001b[0m \u001b[0mfilename\u001b[0m \u001b[0;32min\u001b[0m \u001b[0mfiles\u001b[0m\u001b[0;34m[\u001b[0m\u001b[0;34m:\u001b[0m\u001b[0;34m:\u001b[0m\u001b[0;36m10\u001b[0m\u001b[0;34m]\u001b[0m\u001b[0;34m:\u001b[0m\u001b[0;34m\u001b[0m\u001b[0m\n\u001b[1;32m      4\u001b[0m         \u001b[0mprint\u001b[0m\u001b[0;34m(\u001b[0m\u001b[0mfilename\u001b[0m\u001b[0;34m)\u001b[0m\u001b[0;34m\u001b[0m\u001b[0m\n\u001b[0;32m----> 5\u001b[0;31m         \u001b[0mfile_data\u001b[0m \u001b[0;34m=\u001b[0m \u001b[0mget_file\u001b[0m\u001b[0;34m(\u001b[0m\u001b[0mURL\u001b[0m\u001b[0;34m,\u001b[0m \u001b[0mfilename\u001b[0m\u001b[0;34m)\u001b[0m\u001b[0;34m\u001b[0m\u001b[0m\n\u001b[0m\u001b[1;32m      6\u001b[0m         \u001b[0mjson_data\u001b[0m \u001b[0;34m=\u001b[0m \u001b[0mjson\u001b[0m\u001b[0;34m.\u001b[0m\u001b[0mloads\u001b[0m\u001b[0;34m(\u001b[0m\u001b[0mdecompress_json\u001b[0m\u001b[0;34m(\u001b[0m\u001b[0mfile_data\u001b[0m\u001b[0;34m)\u001b[0m\u001b[0;34m.\u001b[0m\u001b[0mdecode\u001b[0m\u001b[0;34m(\u001b[0m\u001b[0;34m)\u001b[0m\u001b[0;34m)\u001b[0m\u001b[0;34m\u001b[0m\u001b[0m\n\u001b[1;32m      7\u001b[0m         \u001b[0mdate\u001b[0m\u001b[0;34m,\u001b[0m \u001b[0mpackage_dict\u001b[0m \u001b[0;34m=\u001b[0m \u001b[0mcompute_package_dict\u001b[0m\u001b[0;34m(\u001b[0m\u001b[0mjson_data\u001b[0m\u001b[0;34m,\u001b[0m \u001b[0mpython_version\u001b[0m\u001b[0;34m)\u001b[0m\u001b[0;34m\u001b[0m\u001b[0m\n",
        "\u001b[0;32m/Users/nfaggian/work/anaconda/envs/python-devel/lib/python3.3/functools.py\u001b[0m in \u001b[0;36mwrapper\u001b[0;34m(*args, **kwds)\u001b[0m\n\u001b[1;32m    273\u001b[0m                         \u001b[0mhits\u001b[0m \u001b[0;34m+=\u001b[0m \u001b[0;36m1\u001b[0m\u001b[0;34m\u001b[0m\u001b[0m\n\u001b[1;32m    274\u001b[0m                         \u001b[0;32mreturn\u001b[0m \u001b[0mresult\u001b[0m\u001b[0;34m\u001b[0m\u001b[0m\n\u001b[0;32m--> 275\u001b[0;31m                 \u001b[0mresult\u001b[0m \u001b[0;34m=\u001b[0m \u001b[0muser_function\u001b[0m\u001b[0;34m(\u001b[0m\u001b[0;34m*\u001b[0m\u001b[0margs\u001b[0m\u001b[0;34m,\u001b[0m \u001b[0;34m**\u001b[0m\u001b[0mkwds\u001b[0m\u001b[0;34m)\u001b[0m\u001b[0;34m\u001b[0m\u001b[0m\n\u001b[0m\u001b[1;32m    276\u001b[0m                 \u001b[0;32mwith\u001b[0m \u001b[0mlock\u001b[0m\u001b[0;34m:\u001b[0m\u001b[0;34m\u001b[0m\u001b[0m\n\u001b[1;32m    277\u001b[0m                     \u001b[0;32mif\u001b[0m \u001b[0mkey\u001b[0m \u001b[0;32min\u001b[0m \u001b[0mcache\u001b[0m\u001b[0;34m:\u001b[0m\u001b[0;34m\u001b[0m\u001b[0m\n",
        "\u001b[0;32m<ipython-input-4-bbf9e43d2be2>\u001b[0m in \u001b[0;36mget_file\u001b[0;34m(url, filename)\u001b[0m\n\u001b[1;32m     17\u001b[0m     \"\"\"\n\u001b[1;32m     18\u001b[0m \u001b[0;34m\u001b[0m\u001b[0m\n\u001b[0;32m---> 19\u001b[0;31m     \u001b[0mdata\u001b[0m \u001b[0;34m=\u001b[0m \u001b[0mrequests\u001b[0m\u001b[0;34m.\u001b[0m\u001b[0mget\u001b[0m\u001b[0;34m(\u001b[0m\u001b[0;34m'{}/{}'\u001b[0m\u001b[0;34m.\u001b[0m\u001b[0mformat\u001b[0m\u001b[0;34m(\u001b[0m\u001b[0murl\u001b[0m\u001b[0;34m,\u001b[0m \u001b[0mfilename\u001b[0m\u001b[0;34m)\u001b[0m\u001b[0;34m,\u001b[0m \u001b[0mauth\u001b[0m\u001b[0;34m=\u001b[0m\u001b[0;34m(\u001b[0m\u001b[0;34m'mining'\u001b[0m\u001b[0;34m,\u001b[0m \u001b[0;34m'pypi'\u001b[0m\u001b[0;34m)\u001b[0m\u001b[0;34m)\u001b[0m\u001b[0;34m\u001b[0m\u001b[0m\n\u001b[0m\u001b[1;32m     20\u001b[0m     \u001b[0mtemp\u001b[0m \u001b[0;34m=\u001b[0m \u001b[0mtempfile\u001b[0m\u001b[0;34m.\u001b[0m\u001b[0mNamedTemporaryFile\u001b[0m\u001b[0;34m(\u001b[0m\u001b[0;34m)\u001b[0m\u001b[0;34m\u001b[0m\u001b[0m\n\u001b[1;32m     21\u001b[0m     \u001b[0mtemp\u001b[0m\u001b[0;34m.\u001b[0m\u001b[0mwrite\u001b[0m\u001b[0;34m(\u001b[0m\u001b[0mdata\u001b[0m\u001b[0;34m.\u001b[0m\u001b[0mcontent\u001b[0m\u001b[0;34m)\u001b[0m\u001b[0;34m\u001b[0m\u001b[0m\n",
        "\u001b[0;32m/Users/nfaggian/work/anaconda/envs/python-devel/lib/python3.3/site-packages/requests/api.py\u001b[0m in \u001b[0;36mget\u001b[0;34m(url, **kwargs)\u001b[0m\n\u001b[1;32m     53\u001b[0m \u001b[0;34m\u001b[0m\u001b[0m\n\u001b[1;32m     54\u001b[0m     \u001b[0mkwargs\u001b[0m\u001b[0;34m.\u001b[0m\u001b[0msetdefault\u001b[0m\u001b[0;34m(\u001b[0m\u001b[0;34m'allow_redirects'\u001b[0m\u001b[0;34m,\u001b[0m \u001b[0;32mTrue\u001b[0m\u001b[0;34m)\u001b[0m\u001b[0;34m\u001b[0m\u001b[0m\n\u001b[0;32m---> 55\u001b[0;31m     \u001b[0;32mreturn\u001b[0m \u001b[0mrequest\u001b[0m\u001b[0;34m(\u001b[0m\u001b[0;34m'get'\u001b[0m\u001b[0;34m,\u001b[0m \u001b[0murl\u001b[0m\u001b[0;34m,\u001b[0m \u001b[0;34m**\u001b[0m\u001b[0mkwargs\u001b[0m\u001b[0;34m)\u001b[0m\u001b[0;34m\u001b[0m\u001b[0m\n\u001b[0m\u001b[1;32m     56\u001b[0m \u001b[0;34m\u001b[0m\u001b[0m\n\u001b[1;32m     57\u001b[0m \u001b[0;34m\u001b[0m\u001b[0m\n",
        "\u001b[0;32m/Users/nfaggian/work/anaconda/envs/python-devel/lib/python3.3/site-packages/requests/api.py\u001b[0m in \u001b[0;36mrequest\u001b[0;34m(method, url, **kwargs)\u001b[0m\n\u001b[1;32m     42\u001b[0m \u001b[0;34m\u001b[0m\u001b[0m\n\u001b[1;32m     43\u001b[0m     \u001b[0msession\u001b[0m \u001b[0;34m=\u001b[0m \u001b[0msessions\u001b[0m\u001b[0;34m.\u001b[0m\u001b[0mSession\u001b[0m\u001b[0;34m(\u001b[0m\u001b[0;34m)\u001b[0m\u001b[0;34m\u001b[0m\u001b[0m\n\u001b[0;32m---> 44\u001b[0;31m     \u001b[0;32mreturn\u001b[0m \u001b[0msession\u001b[0m\u001b[0;34m.\u001b[0m\u001b[0mrequest\u001b[0m\u001b[0;34m(\u001b[0m\u001b[0mmethod\u001b[0m\u001b[0;34m=\u001b[0m\u001b[0mmethod\u001b[0m\u001b[0;34m,\u001b[0m \u001b[0murl\u001b[0m\u001b[0;34m=\u001b[0m\u001b[0murl\u001b[0m\u001b[0;34m,\u001b[0m \u001b[0;34m**\u001b[0m\u001b[0mkwargs\u001b[0m\u001b[0;34m)\u001b[0m\u001b[0;34m\u001b[0m\u001b[0m\n\u001b[0m\u001b[1;32m     45\u001b[0m \u001b[0;34m\u001b[0m\u001b[0m\n\u001b[1;32m     46\u001b[0m \u001b[0;34m\u001b[0m\u001b[0m\n",
        "\u001b[0;32m/Users/nfaggian/work/anaconda/envs/python-devel/lib/python3.3/site-packages/requests/sessions.py\u001b[0m in \u001b[0;36mrequest\u001b[0;34m(self, method, url, params, data, headers, cookies, files, auth, timeout, allow_redirects, proxies, hooks, stream, verify, cert)\u001b[0m\n\u001b[1;32m    381\u001b[0m             \u001b[0;34m'allow_redirects'\u001b[0m\u001b[0;34m:\u001b[0m \u001b[0mallow_redirects\u001b[0m\u001b[0;34m,\u001b[0m\u001b[0;34m\u001b[0m\u001b[0m\n\u001b[1;32m    382\u001b[0m         }\n\u001b[0;32m--> 383\u001b[0;31m         \u001b[0mresp\u001b[0m \u001b[0;34m=\u001b[0m \u001b[0mself\u001b[0m\u001b[0;34m.\u001b[0m\u001b[0msend\u001b[0m\u001b[0;34m(\u001b[0m\u001b[0mprep\u001b[0m\u001b[0;34m,\u001b[0m \u001b[0;34m**\u001b[0m\u001b[0msend_kwargs\u001b[0m\u001b[0;34m)\u001b[0m\u001b[0;34m\u001b[0m\u001b[0m\n\u001b[0m\u001b[1;32m    384\u001b[0m \u001b[0;34m\u001b[0m\u001b[0m\n\u001b[1;32m    385\u001b[0m         \u001b[0;32mreturn\u001b[0m \u001b[0mresp\u001b[0m\u001b[0;34m\u001b[0m\u001b[0m\n",
        "\u001b[0;32m/Users/nfaggian/work/anaconda/envs/python-devel/lib/python3.3/site-packages/requests/sessions.py\u001b[0m in \u001b[0;36msend\u001b[0;34m(self, request, **kwargs)\u001b[0m\n\u001b[1;32m    484\u001b[0m         \u001b[0mstart\u001b[0m \u001b[0;34m=\u001b[0m \u001b[0mdatetime\u001b[0m\u001b[0;34m.\u001b[0m\u001b[0mutcnow\u001b[0m\u001b[0;34m(\u001b[0m\u001b[0;34m)\u001b[0m\u001b[0;34m\u001b[0m\u001b[0m\n\u001b[1;32m    485\u001b[0m         \u001b[0;31m# Send the request\u001b[0m\u001b[0;34m\u001b[0m\u001b[0;34m\u001b[0m\u001b[0m\n\u001b[0;32m--> 486\u001b[0;31m         \u001b[0mr\u001b[0m \u001b[0;34m=\u001b[0m \u001b[0madapter\u001b[0m\u001b[0;34m.\u001b[0m\u001b[0msend\u001b[0m\u001b[0;34m(\u001b[0m\u001b[0mrequest\u001b[0m\u001b[0;34m,\u001b[0m \u001b[0;34m**\u001b[0m\u001b[0mkwargs\u001b[0m\u001b[0;34m)\u001b[0m\u001b[0;34m\u001b[0m\u001b[0m\n\u001b[0m\u001b[1;32m    487\u001b[0m         \u001b[0;31m# Total elapsed time of the request (approximately)\u001b[0m\u001b[0;34m\u001b[0m\u001b[0;34m\u001b[0m\u001b[0m\n\u001b[1;32m    488\u001b[0m         \u001b[0mr\u001b[0m\u001b[0;34m.\u001b[0m\u001b[0melapsed\u001b[0m \u001b[0;34m=\u001b[0m \u001b[0mdatetime\u001b[0m\u001b[0;34m.\u001b[0m\u001b[0mutcnow\u001b[0m\u001b[0;34m(\u001b[0m\u001b[0;34m)\u001b[0m \u001b[0;34m-\u001b[0m \u001b[0mstart\u001b[0m\u001b[0;34m\u001b[0m\u001b[0m\n",
        "\u001b[0;32m/Users/nfaggian/work/anaconda/envs/python-devel/lib/python3.3/site-packages/requests/adapters.py\u001b[0m in \u001b[0;36msend\u001b[0;34m(self, request, stream, timeout, verify, cert, proxies)\u001b[0m\n\u001b[1;32m    376\u001b[0m \u001b[0;34m\u001b[0m\u001b[0m\n\u001b[1;32m    377\u001b[0m         \u001b[0;32mexcept\u001b[0m \u001b[0mMaxRetryError\u001b[0m \u001b[0;32mas\u001b[0m \u001b[0me\u001b[0m\u001b[0;34m:\u001b[0m\u001b[0;34m\u001b[0m\u001b[0m\n\u001b[0;32m--> 378\u001b[0;31m             \u001b[0;32mraise\u001b[0m \u001b[0mConnectionError\u001b[0m\u001b[0;34m(\u001b[0m\u001b[0me\u001b[0m\u001b[0;34m)\u001b[0m\u001b[0;34m\u001b[0m\u001b[0m\n\u001b[0m\u001b[1;32m    379\u001b[0m \u001b[0;34m\u001b[0m\u001b[0m\n\u001b[1;32m    380\u001b[0m         \u001b[0;32mexcept\u001b[0m \u001b[0m_ProxyError\u001b[0m \u001b[0;32mas\u001b[0m \u001b[0me\u001b[0m\u001b[0;34m:\u001b[0m\u001b[0;34m\u001b[0m\u001b[0m\n",
        "\u001b[0;31mConnectionError\u001b[0m: HTTPConnectionPool(host='lidlbit.com', port=8888): Max retries exceeded with url: //pypi_2014-05-13T11%3a30%3a45.json.gz (Caused by <class 'socket.gaierror'>: [Errno 8] nodename nor servname provided, or not known)"
       ]
      }
     ],
     "prompt_number": 10
    },
    {
     "cell_type": "code",
     "collapsed": false,
     "input": [
      "pd.DataFrame([py3['Programming Language :: Python :: 3.4'], \n",
      "              py2['Programming Language :: Python :: 2.7']]).T.plot(figsize=(15,6));"
     ],
     "language": "python",
     "metadata": {},
     "outputs": []
    },
    {
     "cell_type": "code",
     "collapsed": false,
     "input": [],
     "language": "python",
     "metadata": {},
     "outputs": []
    }
   ],
   "metadata": {}
  }
 ]
}