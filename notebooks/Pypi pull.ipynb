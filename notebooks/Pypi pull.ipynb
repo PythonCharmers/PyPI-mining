{
 "metadata": {
  "name": "",
  "signature": "sha256:60b662389ea52a3a1a6f8506b9481ed183654286423a646d00b2f954769ec243"
 },
 "nbformat": 3,
 "nbformat_minor": 0,
 "worksheets": [
  {
   "cells": [
    {
     "cell_type": "code",
     "collapsed": false,
     "input": [
      "import requests\n",
      "import re\n",
      "import tempfile\n",
      "import functools\n",
      "import gzip"
     ],
     "language": "python",
     "metadata": {},
     "outputs": [],
     "prompt_number": 1
    },
    {
     "cell_type": "code",
     "collapsed": false,
     "input": [
      "URL = 'http://lidlbit.com:8888/'\n",
      "\n",
      "\n",
      "def get_file_list(url, ext='gz'):\n",
      "    \"\"\" \n",
      "    Get a file list from a http server. \n",
      "    \"\"\"\n",
      "\n",
      "    index = requests.get(url,  auth=('mining', 'pypi'))\n",
      "    pattern = '<a href=\"(.*)\">'.format(ext)\n",
      "    return [ x for x in re.findall(pattern, index.content.decode()) if x.endswith(ext)]\n",
      "\n",
      "\n",
      "@functools.lru_cache()\n",
      "def get_file(url, filename):\n",
      "    \"\"\"\n",
      "    Retrieve a file, into a temporary file.\n",
      "    \"\"\"\n",
      "    \n",
      "    data = requests.get('{}/{}'.format(url, filename), auth=('mining', 'pypi'))  \n",
      "    temp = tempfile.NamedTemporaryFile()\n",
      "    temp.write(data.content)\n",
      "    temp.seek(0)\n",
      "    return temp\n",
      "\n",
      "\n",
      "def decompress_json(jsonfile):\n",
      "    \"\"\"\n",
      "    Decompress the json named temporary file.\n",
      "    \"\"\"\n",
      "\n",
      "    jsonfile.seek(0)\n",
      "    return gzip.decompress(jsonfile.read())\n",
      "    "
     ],
     "language": "python",
     "metadata": {},
     "outputs": [],
     "prompt_number": 42
    },
    {
     "cell_type": "code",
     "collapsed": false,
     "input": [
      "files = get_file_list(URL)"
     ],
     "language": "python",
     "metadata": {},
     "outputs": [],
     "prompt_number": 43
    },
    {
     "cell_type": "code",
     "collapsed": false,
     "input": [
      "json = decompress_json(get_file(URL, files[0]))"
     ],
     "language": "python",
     "metadata": {},
     "outputs": [],
     "prompt_number": 44
    },
    {
     "cell_type": "code",
     "collapsed": false,
     "input": [
      "import pandas as pd"
     ],
     "language": "python",
     "metadata": {},
     "outputs": [],
     "prompt_number": 47
    },
    {
     "cell_type": "code",
     "collapsed": false,
     "input": [
      "pd.read_json(json).T"
     ],
     "language": "python",
     "metadata": {},
     "outputs": [
      {
       "html": [
        "<div style=\"max-height:1000px;max-width:1500px;overflow:auto;\">\n",
        "<table border=\"1\" class=\"dataframe\">\n",
        "  <thead>\n",
        "    <tr style=\"text-align: right;\">\n",
        "      <th></th>\n",
        "      <th>python</th>\n",
        "      <th>python_three</th>\n",
        "      <th>python_two</th>\n",
        "    </tr>\n",
        "  </thead>\n",
        "  <tbody>\n",
        "    <tr>\n",
        "      <th>2014-05-06 09:12:03</th>\n",
        "      <td> {'Programming Language :: Python': [{'package'...</td>\n",
        "      <td> {'Programming Language :: Python :: 3': [{'pac...</td>\n",
        "      <td> {'Programming Language :: Python :: 2.7': [{'p...</td>\n",
        "    </tr>\n",
        "  </tbody>\n",
        "</table>\n",
        "<p>1 rows \u00d7 3 columns</p>\n",
        "</div>"
       ],
       "metadata": {},
       "output_type": "pyout",
       "prompt_number": 49,
       "text": [
        "                                                                python  \\\n",
        "2014-05-06 09:12:03  {'Programming Language :: Python': [{'package'...   \n",
        "\n",
        "                                                          python_three  \\\n",
        "2014-05-06 09:12:03  {'Programming Language :: Python :: 3': [{'pac...   \n",
        "\n",
        "                                                            python_two  \n",
        "2014-05-06 09:12:03  {'Programming Language :: Python :: 2.7': [{'p...  \n",
        "\n",
        "[1 rows x 3 columns]"
       ]
      }
     ],
     "prompt_number": 49
    },
    {
     "cell_type": "code",
     "collapsed": false,
     "input": [
      "len(json)"
     ],
     "language": "python",
     "metadata": {},
     "outputs": [
      {
       "metadata": {},
       "output_type": "pyout",
       "prompt_number": 50,
       "text": [
        "3091510"
       ]
      }
     ],
     "prompt_number": 50
    },
    {
     "cell_type": "code",
     "collapsed": false,
     "input": [],
     "language": "python",
     "metadata": {},
     "outputs": []
    }
   ],
   "metadata": {}
  }
 ]
}